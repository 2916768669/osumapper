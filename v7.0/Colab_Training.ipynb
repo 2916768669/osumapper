{
 "cells": [
  {
   "cell_type": "markdown",
   "metadata": {
    "id": "EroyvoE7qr_P"
   },
   "source": [
    "### Step 0: Installation\n",
    "\n",
    "First of all, check the Notebook Settings under Edit tab.<br>\n",
    "Activate GPU to make the training faster.\n",
    "\n",
    "Then, clone the git repository and install dependencies."
   ]
  },
  {
   "cell_type": "code",
   "execution_count": null,
   "metadata": {
    "id": "3APpbRI8qrxm"
   },
   "outputs": [],
   "source": [
    "%cd /content/\n",
    "!git clone https://github.com/kotritrona/osumapper.git\n",
    "%cd osumapper/v7.0\n",
    "!apt install -y ffmpeg\n",
    "!apt install -y nodejs\n",
    "!cp requirements_colab.txt requirements.txt\n",
    "!cp package_colab.json package.json\n",
    "!pip install -r requirements.txt\n",
    "!npm install"
   ]
  },
  {
   "cell_type": "markdown",
   "metadata": {
    "id": "76KQyHYgrFEy"
   },
   "source": [
    "### Step 1: Upload training maps\n",
    "\n",
    "Write the maplist.txt and run the first block of `01_Training.ipynb` (`act_data_prep.step1_load_maps()`) locally.<br>\n",
    "After that, make a folder `NPZ/` under your google drive, and upload the generated npz files under local `mapdata/` in there."
   ]
  },
  {
   "cell_type": "code",
   "execution_count": null,
   "metadata": {
    "id": "aFWVEtE2vtoT"
   },
   "outputs": [],
   "source": [
    "# Wait for the upload to finish"
   ]
  },
  {
   "cell_type": "markdown",
   "metadata": {
    "id": "83RcU3yap-N_"
   },
   "source": [
    "Mount your google drive in Colaboratory.<br>\n",
    "It will ask you for an auth code.\n"
   ]
  },
  {
   "cell_type": "code",
   "execution_count": null,
   "metadata": {
    "id": "XF6WtFFupmyD"
   },
   "outputs": [],
   "source": [
    "from google.colab import drive\n",
    "drive.mount('/gdrive')"
   ]
  },
  {
   "cell_type": "markdown",
   "metadata": {
    "id": "5OjRVBotq9A7"
   },
   "source": [
    "Copy .npz files to the training data folder."
   ]
  },
  {
   "cell_type": "code",
   "execution_count": null,
   "metadata": {
    "id": "Tx9X_LIZqGGi"
   },
   "outputs": [],
   "source": [
    "# One of mkdir or rm will pop an error. Ignore it.\n",
    "!mkdir mapdata/\n",
    "!rm mapdata/*.npz\n",
    "!cp /gdrive/'My Drive'/NPZ/*.npz mapdata/\n",
    "print(\"Copy complete!\")"
   ]
  },
  {
   "cell_type": "markdown",
   "metadata": {
    "id": "FNQZjKoer8Fy"
   },
   "source": [
    "## Step 2: rhythm model\n",
    "\n",
    "(after this point it's copypaste from `01_Training.ipynb` from the second block)\n",
    "\n",
    "Train a rhythm model that decides where to place circles/sliders based on music.\n",
    "\n",
    "If you're using GPU, try setting batch_size parameter to a smaller value (that GPU can handle)."
   ]
  },
  {
   "cell_type": "code",
   "execution_count": null,
   "metadata": {
    "id": "svgt9Fs2r7iy"
   },
   "outputs": [],
   "source": [
    "from act_train_rhythm import *;\n",
    "\n",
    "train_params = {\n",
    "    \"divisor\" : 4,\n",
    "    \"train_epochs\" : 32,\n",
    "    \"train_batch_size\" : None, # Default is 32 or based on machine specs\n",
    "    \"plot_history\" : True,\n",
    "    \"too_many_maps_threshold\" : 240,\n",
    "    \"train_epochs_many_maps\" : 6,\n",
    "    \"data_split_count\" : 80\n",
    "};\n",
    "model = step2_build_model()"
   ]
  },
  {
   "cell_type": "markdown",
   "metadata": {
    "id": "Qv88gsdasKYh"
   },
   "source": [
    "Train the model. Accuracy should be about 0.7 to 0.8 based on my tests."
   ]
  },
  {
   "cell_type": "code",
   "execution_count": null,
   "metadata": {
    "id": "y4IAxnpUqqy9"
   },
   "outputs": [],
   "source": [
    "model = step2_train_model(model, train_params)\n",
    "step2_evaluate(model)"
   ]
  },
  {
   "cell_type": "markdown",
   "metadata": {
    "id": "FNxOeuT2sOz5"
   },
   "source": [
    "Done! now save the model to the disk."
   ]
  },
  {
   "cell_type": "code",
   "execution_count": null,
   "metadata": {
    "id": "LPnmz5twsPOJ"
   },
   "outputs": [],
   "source": [
    "from google.colab import files\n",
    "step2_save(model)\n",
    "\n",
    "files.download(\"saved_rhythm_model\")"
   ]
  },
  {
   "cell_type": "markdown",
   "metadata": {
    "id": "CfeE3AjbsVoi"
   },
   "source": [
    "## Step 3: flow dataset construction\n",
    "\n",
    "Construct a dataset for the map flow generator."
   ]
  },
  {
   "cell_type": "code",
   "execution_count": null,
   "metadata": {
    "id": "hxUhLFoEsWRx"
   },
   "outputs": [],
   "source": [
    "from act_flow_ds import *;\n",
    "\n",
    "flow_dataset_params = step3_set_params(note_group_size=10, step_size=5);\n",
    "maps_flow = step3_read_maps_flow(flow_dataset_params);\n",
    "step3_save_flow_dataset(maps_flow);\n",
    "files.download(\"flow_dataset.npz\")"
   ]
  },
  {
   "cell_type": "markdown",
   "metadata": {
    "id": "QsGdBZ-UtPVk"
   },
   "source": [
    "Replace the default model files to use it in Colab map creator."
   ]
  },
  {
   "cell_type": "code",
   "execution_count": null,
   "metadata": {
    "id": "pSI3WWi_tPqY"
   },
   "outputs": [],
   "source": [
    "!cp saved_rhythm_model models/default/rhythm_model\n",
    "!cp flow_dataset.npz models/default/flow_dataset.npz"
   ]
  },
  {
   "cell_type": "markdown",
   "metadata": {
    "id": "O_pA6cIusoXQ"
   },
   "source": [
    "That's it! The models are trained. Start making a new map with the other notebook."
   ]
  }
 ],
 "metadata": {
  "accelerator": "GPU",
  "colab": {
   "collapsed_sections": [],
   "name": "Colab Training.ipynb",
   "provenance": []
  },
  "kernelspec": {
   "display_name": "Python 3",
   "language": "python",
   "name": "python3"
  },
  "language_info": {
   "codemirror_mode": {
    "name": "ipython",
    "version": 3
   },
   "file_extension": ".py",
   "mimetype": "text/x-python",
   "name": "python",
   "nbconvert_exporter": "python",
   "pygments_lexer": "ipython3",
   "version": "3.8.3"
  }
 },
 "nbformat": 4,
 "nbformat_minor": 1
}
