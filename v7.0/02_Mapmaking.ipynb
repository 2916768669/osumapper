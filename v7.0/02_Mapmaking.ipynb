{
 "cells": [
  {
   "cell_type": "markdown",
   "metadata": {},
   "source": [
    "## osumapper #4: New Map Reader\n"
   ]
  },
  {
   "cell_type": "markdown",
   "metadata": {},
   "source": [
    "Set the input file string to a timed (having the right BPM/offset) .osu file.\n",
    "\n",
    "It converts the map/music to Python readable format."
   ]
  },
  {
   "cell_type": "code",
   "execution_count": 1,
   "metadata": {},
   "outputs": [],
   "source": [
    "from act_newmap_prep import *\n",
    "\n",
    "# input file here! (don't remove the \"r\" before string)\n",
    "file_path = r'D:\\osu!\\Songs\\1140521 ave;new feat Saori Sakura - _3Love_Chuki!!\\ave;new feat. Saori Sakura - 3LoveChuki!! (Musty) [a].osu'\n",
    "\n",
    "# Or use auto timing with music file only!!\n",
    "\n",
    "# from act_timing import *;\n",
    "# music_path = r\"D:\\download\\audio_file.mp3\"\n",
    "# file_path = get_timed_osu_file(music_path);\n",
    "\n",
    "step4_read_new_map(file_path);"
   ]
  },
  {
   "cell_type": "markdown",
   "metadata": {},
   "source": [
    "## osumapper #5: Rhythm Predictor\n",
    "\n",
    "Calculates a map's rhythm based on the music and timing."
   ]
  },
  {
   "cell_type": "markdown",
   "metadata": {},
   "source": [
    "Parameters:\n",
    "\n",
    "\"note_density\" determines how many notes will be placed on the timeline, ranges from 0 to 1.<br>\n",
    "\"slider_favor\" determines how the model favors sliders against circles, ranges from -1 to 1.<br>\n",
    "\"dist_multiplier\" determines the distance snap. ranges from 0 to +∞. Of course 0/+∞ are not advisable.<br>\n",
    "\"divisor_favor\" determines how the model favors notes to be on X divisors starting from a beat (white, blue, red, blue), ranges from -1 to 1 each.<br>\n",
    "\"slider_max_ticks\" determines the max amount of time a slider can slide, ranges from 1 to +∞."
   ]
  },
  {
   "cell_type": "code",
   "execution_count": 1,
   "metadata": {},
   "outputs": [
    {
     "name": "stdout",
     "output_type": "stream",
     "text": [
      "368 notes predicted.\n"
     ]
    }
   ],
   "source": [
    "from act_rhythm_calc import *\n",
    "\n",
    "model = step5_load_model();\n",
    "npz = step5_load_npz();\n",
    "params = step5_set_params(dist_multiplier=1, note_density=0.32, slider_favor=0, divisor_favor=[0] * 4, slider_max_ticks=8);\n",
    "\n",
    "predictions = step5_predict_notes(model, npz, params);\n",
    "converted = step5_convert_sliders(predictions, params);"
   ]
  },
  {
   "cell_type": "code",
   "execution_count": 2,
   "metadata": {},
   "outputs": [],
   "source": [
    "step5_save_predictions(converted);"
   ]
  },
  {
   "cell_type": "markdown",
   "metadata": {},
   "source": [
    "## osumapper #6: Map flow generator\n",
    "\n",
    "Generate the final map using a Generative Adversarial Network.\n",
    "\n",
    "Parameters:\n",
    "\n",
    "- note_distance_basis: the baseline for distance snap between notes\n",
    "- max_ticks_for_ds: max number of time ticks (each 1/4) that it uses the distance snap\n",
    "- next_from_slider_end: use slider end instead of slider head for calculating distance\n",
    "- I haven't tested the others "
   ]
  },
  {
   "cell_type": "code",
   "execution_count": 7,
   "metadata": {
    "scrolled": true
   },
   "outputs": [
    {
     "name": "stdout",
     "output_type": "stream",
     "text": [
      "# of groups: 33\n",
      "Group 0, Epoch 1: G loss: 0.24790037316935404 vs. C loss: 0.2262388070424398\n",
      "Group 0, Epoch 2: G loss: 0.28358536320073263 vs. C loss: 0.16672679781913757\n",
      "Group 0, Epoch 3: G loss: 0.26922269804137094 vs. C loss: 0.20779886841773987\n",
      "Group 0, Epoch 4: G loss: 0.0838413078870092 vs. C loss: 0.20252553621927896\n",
      "Group 0, Epoch 5: G loss: 0.04425418110830443 vs. C loss: 0.18909139931201935\n",
      "Group 0, Epoch 6: G loss: 0.10191006000552859 vs. C loss: 0.1783087452252706\n",
      "Group 1, Epoch 1: G loss: 0.2881387876612799 vs. C loss: 0.26865369578202564\n",
      "Group 1, Epoch 2: G loss: 0.22215533469404494 vs. C loss: 0.16718232134977976\n",
      "Group 1, Epoch 3: G loss: 0.29192224570683073 vs. C loss: 0.12480976184209187\n",
      "Group 1, Epoch 4: G loss: 0.3819560046706881 vs. C loss: 0.17794767022132874\n",
      "Group 1, Epoch 5: G loss: 0.15578151920012065 vs. C loss: 0.20804613331953684\n",
      "Group 1, Epoch 6: G loss: 0.05712507452283587 vs. C loss: 0.18427309393882751\n",
      "Group 2, Epoch 1: G loss: 0.2838212102651596 vs. C loss: 0.2629282971223195\n",
      "Group 2, Epoch 2: G loss: 0.22611354078565324 vs. C loss: 0.1700498660405477\n",
      "Group 2, Epoch 3: G loss: 0.2622210021529879 vs. C loss: 0.1624106913805008\n",
      "Group 2, Epoch 4: G loss: 0.43742153900010244 vs. C loss: 0.17301029960314432\n",
      "Group 2, Epoch 5: G loss: 0.13532783303942 vs. C loss: 0.20479510724544525\n",
      "Group 2, Epoch 6: G loss: 0.043164090386458805 vs. C loss: 0.19979831079641977\n",
      "Group 3, Epoch 1: G loss: 0.26717356060232433 vs. C loss: 0.2676161825656891\n",
      "Group 3, Epoch 2: G loss: 0.1901718441929136 vs. C loss: 0.1621385564406713\n",
      "Group 3, Epoch 3: G loss: 0.34091619082859587 vs. C loss: 0.14519625902175903\n",
      "Group 3, Epoch 4: G loss: 0.31524472151483807 vs. C loss: 0.1950536717971166\n",
      "Group 3, Epoch 5: G loss: 0.053648539419685094 vs. C loss: 0.19803504149119058\n",
      "Group 3, Epoch 6: G loss: 0.052365085908344815 vs. C loss: 0.1814869393905004\n",
      "Group 4, Epoch 1: G loss: 0.32246129853384836 vs. C loss: 0.2716036190589269\n",
      "Group 4, Epoch 2: G loss: 0.30432519742420744 vs. C loss: 0.15756945808728537\n",
      "Group 4, Epoch 3: G loss: 0.3486212555851255 vs. C loss: 0.16698259115219116\n",
      "Group 4, Epoch 4: G loss: 0.23929950594902039 vs. C loss: 0.2127290666103363\n",
      "Group 4, Epoch 5: G loss: 0.06505653741104263 vs. C loss: 0.19923894107341766\n",
      "Group 4, Epoch 6: G loss: 0.025847519880958965 vs. C loss: 0.19958769281705221\n",
      "Group 5, Epoch 1: G loss: 0.2938589836869921 vs. C loss: 0.2594720274209976\n",
      "Group 5, Epoch 2: G loss: 0.21844868574823653 vs. C loss: 0.16169898708661398\n",
      "Group 5, Epoch 3: G loss: 0.38977767739977154 vs. C loss: 0.13627326240142187\n",
      "Group 5, Epoch 4: G loss: 0.4397730827331543 vs. C loss: 0.10682293772697449\n",
      "Group 5, Epoch 5: G loss: 0.41624883243015837 vs. C loss: 0.21118920544783273\n",
      "Group 5, Epoch 6: G loss: 0.04009174129792622 vs. C loss: 0.2057181199391683\n",
      "Group 6, Epoch 1: G loss: 0.39274161628314425 vs. C loss: 0.21776085595289865\n",
      "Group 6, Epoch 2: G loss: 0.24091695887701853 vs. C loss: 0.19300261636575064\n",
      "Group 6, Epoch 3: G loss: 0.07815833070448466 vs. C loss: 0.18939184645811716\n",
      "Group 6, Epoch 4: G loss: 0.1379488238266536 vs. C loss: 0.16979018350442251\n",
      "Group 6, Epoch 5: G loss: 0.24921055350984847 vs. C loss: 0.1879670868317286\n",
      "Group 6, Epoch 6: G loss: 0.09248757894550051 vs. C loss: 0.1882801353931427\n",
      "Group 7, Epoch 1: G loss: 0.2951624946934836 vs. C loss: 0.26012370487054187\n",
      "Group 7, Epoch 2: G loss: 0.20388010995728628 vs. C loss: 0.1785156031449636\n",
      "Group 7, Epoch 3: G loss: 0.2404849933726447 vs. C loss: 0.15345413982868195\n",
      "Group 7, Epoch 4: G loss: 0.43336412736347746 vs. C loss: 0.12540513028701147\n",
      "Group 7, Epoch 5: G loss: 0.299598012651716 vs. C loss: 0.2143617868423462\n",
      "Group 7, Epoch 6: G loss: 0.0412296966782638 vs. C loss: 0.20336721340815225\n",
      "Group 7, Epoch 7: G loss: 0.0340151238654341 vs. C loss: 0.20286868512630463\n",
      "Group 7, Epoch 8: G loss: 0.031045356233205115 vs. C loss: 0.19918261965115866\n",
      "Group 8, Epoch 1: G loss: 0.26763990095683504 vs. C loss: 0.2573780318101247\n",
      "Group 8, Epoch 2: G loss: 0.20062117917197092 vs. C loss: 0.17182916402816772\n",
      "Group 8, Epoch 3: G loss: 0.2737278640270233 vs. C loss: 0.15543965498606363\n",
      "Group 8, Epoch 4: G loss: 0.22823651347841536 vs. C loss: 0.20260490973790488\n",
      "Group 8, Epoch 5: G loss: 0.03245218736784799 vs. C loss: 0.19849528868993124\n",
      "Group 8, Epoch 6: G loss: 0.029011116230062077 vs. C loss: 0.193582092722257\n",
      "Group 9, Epoch 1: G loss: 0.3674927907330649 vs. C loss: 0.25493285059928894\n",
      "Group 9, Epoch 2: G loss: 0.26568753591605593 vs. C loss: 0.17725752790768942\n",
      "Group 9, Epoch 3: G loss: 0.20235864605222428 vs. C loss: 0.1877133846282959\n",
      "Group 9, Epoch 4: G loss: 0.12703311975513185 vs. C loss: 0.19334465265274048\n",
      "Group 9, Epoch 5: G loss: 0.07141608531985964 vs. C loss: 0.1849192976951599\n",
      "Group 9, Epoch 6: G loss: 0.16937278849737986 vs. C loss: 0.16596978902816772\n",
      "Group 10, Epoch 1: G loss: 0.3986039459705353 vs. C loss: 0.20858033498128256\n",
      "Group 10, Epoch 2: G loss: 0.23837977647781372 vs. C loss: 0.19080456594626108\n",
      "Group 10, Epoch 3: G loss: 0.10663415704454694 vs. C loss: 0.17168556153774261\n",
      "Group 10, Epoch 4: G loss: 0.2987114999975477 vs. C loss: 0.1417868658900261\n",
      "Group 10, Epoch 5: G loss: 0.25341038193021503 vs. C loss: 0.1731640249490738\n",
      "Group 10, Epoch 6: G loss: 0.16680798998900823 vs. C loss: 0.16218306124210358\n",
      "Group 11, Epoch 1: G loss: 0.38708409667015076 vs. C loss: 0.22399638096491495\n",
      "Group 11, Epoch 2: G loss: 0.19472351670265198 vs. C loss: 0.18981810907522836\n",
      "Group 11, Epoch 3: G loss: 0.10628038751227516 vs. C loss: 0.17069492240746817\n",
      "Group 11, Epoch 4: G loss: 0.2832998888833182 vs. C loss: 0.19344469408194223\n",
      "Group 11, Epoch 5: G loss: 0.11037819513252803 vs. C loss: 0.18647574881712595\n",
      "Group 11, Epoch 6: G loss: 0.09991210805518287 vs. C loss: 0.17840862274169922\n",
      "Group 12, Epoch 1: G loss: 0.2959346728665488 vs. C loss: 0.25397750238577527\n",
      "Group 12, Epoch 2: G loss: 0.1791974582842418 vs. C loss: 0.16562088827292124\n",
      "Group 12, Epoch 3: G loss: 0.35748627356120516 vs. C loss: 0.13218540201584497\n",
      "Group 12, Epoch 4: G loss: 0.3103784258876528 vs. C loss: 0.15903843939304352\n",
      "Group 12, Epoch 5: G loss: 0.25212473635162624 vs. C loss: 0.20170469085375467\n",
      "Group 12, Epoch 6: G loss: 0.09761618450284004 vs. C loss: 0.2010039140780767\n",
      "Group 13, Epoch 1: G loss: 0.382028660603932 vs. C loss: 0.23336534202098846\n",
      "Group 13, Epoch 2: G loss: 0.24352805955069406 vs. C loss: 0.14136484762032828\n",
      "Group 13, Epoch 3: G loss: 0.46330233982631136 vs. C loss: 0.13792609423398972\n",
      "Group 13, Epoch 4: G loss: 0.2894056662917137 vs. C loss: 0.20439105729262033\n",
      "Group 13, Epoch 5: G loss: 0.04486148964081492 vs. C loss: 0.2039918750524521\n",
      "Group 13, Epoch 6: G loss: 0.05237543423260961 vs. C loss: 0.1886246850093206\n",
      "Group 14, Epoch 1: G loss: 0.3317615453686033 vs. C loss: 0.25497985382874805\n",
      "Group 14, Epoch 2: G loss: 0.22238203244549887 vs. C loss: 0.16213216384251913\n",
      "Group 14, Epoch 3: G loss: 0.2688496538570949 vs. C loss: 0.14643297096093497\n",
      "Group 14, Epoch 4: G loss: 0.4829354626791818 vs. C loss: 0.12817866106828055\n",
      "Group 14, Epoch 5: G loss: 0.3239481651357242 vs. C loss: 0.20664060612519583\n",
      "Group 14, Epoch 6: G loss: 0.036078854863132746 vs. C loss: 0.20183145999908447\n",
      "Group 15, Epoch 1: G loss: 0.26874613761901855 vs. C loss: 0.2654181818167369\n",
      "Group 15, Epoch 2: G loss: 0.21251542653356278 vs. C loss: 0.19377253452936807\n",
      "Group 15, Epoch 3: G loss: 0.11804412411791938 vs. C loss: 0.1736412545045217\n",
      "Group 15, Epoch 4: G loss: 0.1743947927440916 vs. C loss: 0.19985556602478027\n",
      "Group 15, Epoch 5: G loss: 0.09600041487387248 vs. C loss: 0.19429179032643637\n",
      "Group 15, Epoch 6: G loss: 0.06853482499718666 vs. C loss: 0.18399115403493246\n",
      "Group 16, Epoch 1: G loss: 0.28988128900527954 vs. C loss: 0.25829504430294037\n",
      "Group 16, Epoch 2: G loss: 0.2760423592158726 vs. C loss: 0.14897847672303519\n",
      "Group 16, Epoch 3: G loss: 0.4747501143387386 vs. C loss: 0.13468319177627563\n",
      "Group 16, Epoch 4: G loss: 0.3415239836488451 vs. C loss: 0.15123675763607025\n",
      "Group 16, Epoch 5: G loss: 0.15785568659859045 vs. C loss: 0.2117918680111567\n",
      "Group 16, Epoch 6: G loss: 0.010054861661046743 vs. C loss: 0.20672919352849325\n",
      "Group 17, Epoch 1: G loss: 0.30091146911893574 vs. C loss: 0.2718784064054489\n",
      "Group 17, Epoch 2: G loss: 0.22457815068108694 vs. C loss: 0.17593691249688467\n"
     ]
    },
    {
     "name": "stdout",
     "output_type": "stream",
     "text": [
      "Group 17, Epoch 3: G loss: 0.20213674860341208 vs. C loss: 0.16006428003311157\n",
      "Group 17, Epoch 4: G loss: 0.3147542966263635 vs. C loss: 0.1617212196191152\n",
      "Group 17, Epoch 5: G loss: 0.2527074047497341 vs. C loss: 0.18972897032896677\n",
      "Group 17, Epoch 6: G loss: 0.05785740752305303 vs. C loss: 0.19285001357396445\n",
      "Group 18, Epoch 1: G loss: 0.29194206637995584 vs. C loss: 0.26264072954654694\n",
      "Group 18, Epoch 2: G loss: 0.18255602887698583 vs. C loss: 0.17617269357045492\n",
      "Group 18, Epoch 3: G loss: 0.17933100249086106 vs. C loss: 0.16321403781572977\n",
      "Group 18, Epoch 4: G loss: 0.3744364380836487 vs. C loss: 0.16807648042837778\n",
      "Group 18, Epoch 5: G loss: 0.12315477217946734 vs. C loss: 0.20175573726495108\n",
      "Group 18, Epoch 6: G loss: 0.03942712476210935 vs. C loss: 0.2001135398944219\n",
      "Group 19, Epoch 1: G loss: 0.3450791473899569 vs. C loss: 0.2548838754494985\n",
      "Group 19, Epoch 2: G loss: 0.24351337552070618 vs. C loss: 0.15675740440686545\n",
      "Group 19, Epoch 3: G loss: 0.38224040610449656 vs. C loss: 0.12029588967561722\n",
      "Group 19, Epoch 4: G loss: 0.3707826329129083 vs. C loss: 0.19597895443439484\n",
      "Group 19, Epoch 5: G loss: 0.09163706536803927 vs. C loss: 0.17899399995803833\n",
      "Group 19, Epoch 6: G loss: 0.1886168611901147 vs. C loss: 0.17021360993385315\n",
      "Group 20, Epoch 1: G loss: 0.275768695133073 vs. C loss: 0.26952435076236725\n",
      "Group 20, Epoch 2: G loss: 0.18706210809094564 vs. C loss: 0.16476932168006897\n",
      "Group 20, Epoch 3: G loss: 0.27750285821301596 vs. C loss: 0.15322927633921304\n",
      "Group 20, Epoch 4: G loss: 0.41419381754738943 vs. C loss: 0.16092510521411896\n",
      "Group 20, Epoch 5: G loss: 0.16551293432712555 vs. C loss: 0.1979838709036509\n",
      "Group 20, Epoch 6: G loss: 0.04435981996357441 vs. C loss: 0.20240491131941477\n",
      "Group 21, Epoch 1: G loss: 0.3236008712223598 vs. C loss: 0.24947374065717062\n",
      "Group 21, Epoch 2: G loss: 0.29773646167346407 vs. C loss: 0.15323704481124878\n",
      "Group 21, Epoch 3: G loss: 0.2731312023741858 vs. C loss: 0.14008512099583945\n",
      "Group 21, Epoch 4: G loss: 0.3902483178036554 vs. C loss: 0.21641586224238077\n",
      "Group 21, Epoch 5: G loss: 0.03683136935744967 vs. C loss: 0.2048570066690445\n",
      "Group 21, Epoch 6: G loss: 0.016219191519277438 vs. C loss: 0.20426048835118613\n",
      "Group 22, Epoch 1: G loss: 0.30132984050682615 vs. C loss: 0.26941774288813275\n",
      "Group 22, Epoch 2: G loss: 0.19046497557844436 vs. C loss: 0.16695159176985422\n",
      "Group 22, Epoch 3: G loss: 0.23568462686879293 vs. C loss: 0.14831537504990897\n",
      "Group 22, Epoch 4: G loss: 0.5070572750908988 vs. C loss: 0.13572861005862555\n",
      "Group 22, Epoch 5: G loss: 0.4889799952507019 vs. C loss: 0.13266132275263467\n",
      "Group 22, Epoch 6: G loss: 0.40793213886874063 vs. C loss: 0.19723761081695557\n",
      "Group 23, Epoch 1: G loss: 0.2955018941845213 vs. C loss: 0.2621936500072479\n",
      "Group 23, Epoch 2: G loss: 0.17540309471743448 vs. C loss: 0.1716203490893046\n",
      "Group 23, Epoch 3: G loss: 0.1872091782944543 vs. C loss: 0.16378999253114065\n",
      "Group 23, Epoch 4: G loss: 0.2633962652512959 vs. C loss: 0.19314835468928018\n",
      "Group 23, Epoch 5: G loss: 0.08105287062270301 vs. C loss: 0.1887606382369995\n",
      "Group 23, Epoch 6: G loss: 0.07616902462073735 vs. C loss: 0.1786624789237976\n",
      "Group 24, Epoch 1: G loss: 0.3328009098768234 vs. C loss: 0.25996850430965424\n",
      "Group 24, Epoch 2: G loss: 0.27083844585078104 vs. C loss: 0.16663857301076254\n",
      "Group 24, Epoch 3: G loss: 0.25490399982248035 vs. C loss: 0.15305808434883753\n",
      "Group 24, Epoch 4: G loss: 0.36550152727535795 vs. C loss: 0.1654184659322103\n",
      "Group 24, Epoch 5: G loss: 0.24831217846700124 vs. C loss: 0.2042217900355657\n",
      "Group 24, Epoch 6: G loss: 0.058075218594499996 vs. C loss: 0.20061450699965158\n",
      "Group 25, Epoch 1: G loss: 0.2755334994622639 vs. C loss: 0.2826286206642787\n",
      "Group 25, Epoch 2: G loss: 0.22216635516711644 vs. C loss: 0.1707987835009893\n",
      "Group 25, Epoch 3: G loss: 0.2949546234948294 vs. C loss: 0.12288475533326466\n",
      "Group 25, Epoch 4: G loss: 0.46106278896331787 vs. C loss: 0.0975274071097374\n",
      "Group 25, Epoch 5: G loss: 0.3496229723095894 vs. C loss: 0.19729861617088318\n",
      "Group 25, Epoch 6: G loss: 0.06254480193768229 vs. C loss: 0.20017633338769278\n",
      "Group 26, Epoch 1: G loss: 0.32075985840388704 vs. C loss: 0.26441362500190735\n",
      "Group 26, Epoch 2: G loss: 0.2745478238378252 vs. C loss: 0.14626723527908325\n",
      "Group 26, Epoch 3: G loss: 0.31630142458847593 vs. C loss: 0.20100648204485574\n",
      "Group 26, Epoch 4: G loss: 0.10041985767228263 vs. C loss: 0.17318367958068848\n",
      "Group 26, Epoch 5: G loss: 0.23730173707008362 vs. C loss: 0.11739854514598846\n",
      "Group 26, Epoch 6: G loss: 0.4891425924641745 vs. C loss: 0.11161665618419647\n",
      "Group 27, Epoch 1: G loss: 0.3233572521380016 vs. C loss: 0.25401730338732403\n",
      "Group 27, Epoch 2: G loss: 0.10676742557968412 vs. C loss: 0.1847892552614212\n",
      "Group 27, Epoch 3: G loss: 0.0867008747799056 vs. C loss: 0.17580474416414896\n",
      "Group 27, Epoch 4: G loss: 0.17302174546888896 vs. C loss: 0.1855994462966919\n",
      "Group 27, Epoch 5: G loss: 0.26742347862039295 vs. C loss: 0.14601406703392664\n",
      "Group 27, Epoch 6: G loss: 0.3017781951597759 vs. C loss: 0.1432899311184883\n",
      "Group 28, Epoch 1: G loss: 0.3744651590074812 vs. C loss: 0.24063492317994437\n",
      "Group 28, Epoch 2: G loss: 0.34407711029052734 vs. C loss: 0.16084861755371094\n",
      "Group 28, Epoch 3: G loss: 0.3003756318773542 vs. C loss: 0.14226837704579035\n",
      "Group 28, Epoch 4: G loss: 0.5718298809868949 vs. C loss: 0.04907737113535404\n",
      "Group 28, Epoch 5: G loss: 0.5411154393638883 vs. C loss: 0.20265831549962363\n",
      "Group 28, Epoch 6: G loss: 0.05234362717185702 vs. C loss: 0.20213578641414642\n",
      "Group 29, Epoch 1: G loss: 0.4220731939588274 vs. C loss: 0.2046558459599813\n",
      "Group 29, Epoch 2: G loss: 0.2645499344382967 vs. C loss: 0.15730270246664682\n",
      "Group 29, Epoch 3: G loss: 0.33470396271773745 vs. C loss: 0.143905741473039\n",
      "Group 29, Epoch 4: G loss: 0.3328579696161406 vs. C loss: 0.1910103609164556\n",
      "Group 29, Epoch 5: G loss: 0.19781668484210968 vs. C loss: 0.15265159805615744\n",
      "Group 29, Epoch 6: G loss: 0.22884252773863928 vs. C loss: 0.21162467698256174\n",
      "Group 30, Epoch 1: G loss: 0.3296099901199341 vs. C loss: 0.26732393105824787\n",
      "Group 30, Epoch 2: G loss: 0.18964090091841562 vs. C loss: 0.1715764800707499\n",
      "Group 30, Epoch 3: G loss: 0.22886472514697484 vs. C loss: 0.136165589094162\n",
      "Group 30, Epoch 4: G loss: 0.27069451766354696 vs. C loss: 0.21216886242230734\n",
      "Group 30, Epoch 5: G loss: 0.05672268356595721 vs. C loss: 0.1950298249721527\n",
      "Group 30, Epoch 6: G loss: 0.06546719372272491 vs. C loss: 0.17175461848576865\n",
      "Group 31, Epoch 1: G loss: 0.35527060287339346 vs. C loss: 0.25647903978824615\n",
      "Group 31, Epoch 2: G loss: 0.2505234203168324 vs. C loss: 0.17070169746875763\n",
      "Group 31, Epoch 3: G loss: 0.3257624464375632 vs. C loss: 0.1342549721399943\n",
      "Group 31, Epoch 4: G loss: 0.396141590816634 vs. C loss: 0.20238337417443594\n",
      "Group 31, Epoch 5: G loss: 0.07752320915460587 vs. C loss: 0.19438616434733072\n",
      "Group 31, Epoch 6: G loss: 0.05597019089119775 vs. C loss: 0.19002960622310638\n",
      "Group 32, Epoch 1: G loss: 0.31075021411691395 vs. C loss: 0.2676306913296382\n",
      "Group 32, Epoch 2: G loss: 0.321723358971732 vs. C loss: 0.13612418125073114\n",
      "Group 32, Epoch 3: G loss: 0.49958740387644085 vs. C loss: 0.1254063919186592\n",
      "Group 32, Epoch 4: G loss: 0.23881988280585834 vs. C loss: 0.21356592575709024\n",
      "Group 32, Epoch 5: G loss: 0.014025459332125527 vs. C loss: 0.20582143465677896\n",
      "Group 32, Epoch 6: G loss: 0.007226923879768167 vs. C loss: 0.20621393620967865\n"
     ]
    }
   ],
   "source": [
    "from act_gan import *;\n",
    "\n",
    "GAN_PARAMS = {\n",
    "    \"divisor\" : 4,\n",
    "    \"good_epoch\" : 6,\n",
    "    \"max_epoch\" : 25,\n",
    "    \"note_group_size\" : 10,\n",
    "    \"g_epochs\" : 7,\n",
    "    \"c_epochs\" : 3,\n",
    "    \"g_batch\" : 50,\n",
    "    \"g_input_size\" : 50,\n",
    "    \"c_true_batch\" : 50,\n",
    "    \"c_false_batch\" : 10,\n",
    "    \"note_distance_basis\" : 200,\n",
    "    \"next_from_slider_end\" : False,\n",
    "    \"max_ticks_for_ds\" : 2\n",
    "};\n",
    "\n",
    "step6_set_gan_params(GAN_PARAMS);\n",
    "osu_a, data = step6_run_all();"
   ]
  },
  {
   "cell_type": "markdown",
   "metadata": {},
   "source": [
    "### Since the generation will take a while...\n",
    "\n",
    "we can appreciate a nice picture of Cute Sophie!!\n",
    "\n",
    "<img src=\"https://i.imgur.com/Ko2wogO.jpg\" />"
   ]
  },
  {
   "cell_type": "markdown",
   "metadata": {},
   "source": [
    "After the generation is finished, save the data into an .osu file!"
   ]
  },
  {
   "cell_type": "code",
   "execution_count": 8,
   "metadata": {},
   "outputs": [
    {
     "name": "stdout",
     "output_type": "stream",
     "text": [
      "success! file converted to json.\n",
      "elapsed time: 0.117 s\n",
      "\n",
      "finished on: 2020-10-16 16:23:53.721972\n"
     ]
    }
   ],
   "source": [
    "from act_final import *\n",
    "\n",
    "saved_osu_name = step7_save_osu_file(osu_a, data);"
   ]
  },
  {
   "cell_type": "markdown",
   "metadata": {},
   "source": [
    "If it works alright, you should have a nice .osu file under the folder of these notebooks now!\n",
    "\n",
    "If it does not work, please tell me the problem so probably I could fix it!\n",
    "\n",
    "@2020/10/16"
   ]
  }
 ],
 "metadata": {
  "kernelspec": {
   "display_name": "Python 3",
   "language": "python",
   "name": "python3"
  },
  "language_info": {
   "codemirror_mode": {
    "name": "ipython",
    "version": 3
   },
   "file_extension": ".py",
   "mimetype": "text/x-python",
   "name": "python",
   "nbconvert_exporter": "python",
   "pygments_lexer": "ipython3",
   "version": "3.8.3"
  }
 },
 "nbformat": 4,
 "nbformat_minor": 2
}
