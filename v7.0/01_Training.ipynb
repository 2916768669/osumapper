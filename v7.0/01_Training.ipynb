{
 "cells": [
  {
   "cell_type": "markdown",
   "metadata": {},
   "source": [
    "## osumapper #1: Map Dataset Reader\n",
    "\n",
    "Read the map list and convert maps to formats Python can use."
   ]
  },
  {
   "cell_type": "markdown",
   "metadata": {},
   "source": [
    "### IMPORTANT!! First fill \"maplist.txt\" with paths of .osu files you want to train with !!!\n",
    "\n",
    "The default model is trained with the Sota dataset including 44 maps of Sota Fujimori music.\n",
    "\n",
    "**Tip:** Don't train with your every single map. Find good maps (maps you like) with relatively similar difficulty.\n",
    "\n",
    "After that, run the grid below to convert the maps."
   ]
  },
  {
   "cell_type": "code",
   "execution_count": 1,
   "metadata": {},
   "outputs": [
    {
     "name": "stdout",
     "output_type": "stream",
     "text": [
      "Number of filtered maps: 95\n",
      "Map data #0 saved! time = 6.658442258834839 secs\n",
      "Map data #1 saved! time = 2.8743462562561035 secs\n",
      "Map data #2 saved! time = 3.677894115447998 secs\n",
      "Map data #3 saved! time = 3.4095256328582764 secs\n",
      "Map data #4 saved! time = 4.126367568969727 secs\n",
      "Map data #5 saved! time = 4.203413009643555 secs\n",
      "Map data #6 saved! time = 3.016179084777832 secs\n",
      "Map data #7 saved! time = 2.9737050533294678 secs\n",
      "Map data #8 saved! time = 2.537411689758301 secs\n",
      "Map data #9 saved! time = 2.49086594581604 secs\n",
      "Map data #10 saved! time = 3.349555253982544 secs\n",
      "Map data #11 saved! time = 2.800252676010132 secs\n",
      "Map data #12 saved! time = 2.3844423294067383 secs\n",
      "Map data #13 saved! time = 2.5766918659210205 secs\n",
      "Map data #14 saved! time = 2.7178497314453125 secs\n",
      "Map data #15 saved! time = 3.1394808292388916 secs\n",
      "Map data #16 saved! time = 1.702458381652832 secs\n",
      "Map data #17 saved! time = 3.0087602138519287 secs\n",
      "Map data #18 saved! time = 3.36836576461792 secs\n",
      "Map data #19 saved! time = 2.9895052909851074 secs\n",
      "Map data #20 saved! time = 1.9671475887298584 secs\n",
      "Map data #21 saved! time = 1.8380703926086426 secs\n",
      "Map data #22 saved! time = 2.5320420265197754 secs\n",
      "Map data #23 saved! time = 1.775001049041748 secs\n",
      "Map data #24 saved! time = 1.6197524070739746 secs\n",
      "Map data #25 saved! time = 1.6254081726074219 secs\n",
      "Map data #26 saved! time = 3.6235969066619873 secs\n",
      "Map data #27 saved! time = 2.804903507232666 secs\n",
      "Map data #28 saved! time = 2.6186461448669434 secs\n",
      "Map data #29 saved! time = 2.6525676250457764 secs\n",
      "Map data #30 saved! time = 2.233485460281372 secs\n",
      "Map data #31 saved! time = 2.030165195465088 secs\n",
      "Map data #32 saved! time = 3.1048548221588135 secs\n",
      "Map data #33 saved! time = 3.2573983669281006 secs\n",
      "Map data #34 saved! time = 1.8796639442443848 secs\n",
      "Map data #35 saved! time = 3.277534246444702 secs\n",
      "Map data #36 saved! time = 1.622525930404663 secs\n",
      "Map data #37 saved! time = 1.4665584564208984 secs\n",
      "Map data #38 saved! time = 2.0843491554260254 secs\n",
      "Map data #39 saved! time = 1.9862067699432373 secs\n",
      "Map data #40 saved! time = 1.6840629577636719 secs\n",
      "Map data #41 saved! time = 3.1113440990448 secs\n",
      "Map data #42 saved! time = 2.2844743728637695 secs\n",
      "Map data #43 saved! time = 2.065492630004883 secs\n",
      "Map data #44 saved! time = 1.1443772315979004 secs\n",
      "Map data #45 saved! time = 1.4162914752960205 secs\n",
      "Map data #46 saved! time = 2.974146604537964 secs\n",
      "Map data #47 saved! time = 3.0753822326660156 secs\n",
      "Map data #48 saved! time = 4.237425088882446 secs\n",
      "Map data #49 saved! time = 2.617321014404297 secs\n",
      "Map data #50 saved! time = 2.621724843978882 secs\n",
      "Map data #51 saved! time = 4.385178804397583 secs\n",
      "Map data #52 saved! time = 3.497410535812378 secs\n",
      "Map data #53 saved! time = 2.0792455673217773 secs\n",
      "Map data #54 saved! time = 1.8939881324768066 secs\n",
      "Map data #55 saved! time = 10.807492971420288 secs\n",
      "Map data #56 saved! time = 2.0404317378997803 secs\n",
      "Map data #57 saved! time = 2.387678861618042 secs\n",
      "Map data #58 saved! time = 1.4406983852386475 secs\n",
      "Map data #59 saved! time = 3.02742338180542 secs\n",
      "Map data #60 saved! time = 1.412407398223877 secs\n",
      "Map data #61 saved! time = 2.1536247730255127 secs\n",
      "Map data #62 saved! time = 1.9181506633758545 secs\n",
      "Map data #63 saved! time = 2.204409122467041 secs\n",
      "Map data #64 saved! time = 1.5711548328399658 secs\n",
      "Map data #65 saved! time = 2.7874410152435303 secs\n",
      "Map data #66 saved! time = 2.272557258605957 secs\n",
      "Map data #67 saved! time = 4.918031930923462 secs\n",
      "Map data #68 saved! time = 2.5453224182128906 secs\n",
      "Map data #69 saved! time = 2.011988878250122 secs\n",
      "Map data #70 saved! time = 2.841385841369629 secs\n",
      "Map data #71 saved! time = 2.800410747528076 secs\n",
      "Map data #72 saved! time = 2.863718032836914 secs\n",
      "Map data #73 saved! time = 1.9535856246948242 secs\n",
      "Map data #74 saved! time = 1.4531774520874023 secs\n",
      "Map data #75 saved! time = 1.7187697887420654 secs\n",
      "Map data #76 saved! time = 2.835675001144409 secs\n",
      "Map data #77 saved! time = 2.4788148403167725 secs\n",
      "Map data #78 saved! time = 2.530303478240967 secs\n",
      "Map data #79 saved! time = 3.2369911670684814 secs\n",
      "Map data #80 saved! time = 2.5795464515686035 secs\n",
      "Map data #81 saved! time = 1.1825261116027832 secs\n",
      "Map data #82 saved! time = 1.36588716506958 secs\n",
      "Map data #83 saved! time = 2.3153984546661377 secs\n",
      "Map data #84 saved! time = 2.5082874298095703 secs\n",
      "Map data #85 saved! time = 1.5676119327545166 secs\n",
      "Map data #86 saved! time = 2.391127109527588 secs\n",
      "Map data #87 saved! time = 2.8950841426849365 secs\n",
      "Map data #88 saved! time = 2.649017333984375 secs\n",
      "Map data #89 saved! time = 2.5656492710113525 secs\n",
      "Map data #90 saved! time = 3.0988662242889404 secs\n",
      "Map data #91 saved! time = 3.145066976547241 secs\n",
      "Map data #92 saved! time = 2.9383385181427 secs\n",
      "Map data #93 saved! time = 2.8696320056915283 secs\n",
      "Map data #94 saved! time = 2.6477038860321045 secs\n"
     ]
    }
   ],
   "source": [
    "from act_data_prep import * \n",
    "\n",
    "step1_load_maps();\n",
    "\n",
    "# If any map causes bug please tell me!! https://discord.gg/npmSy7K"
   ]
  },
  {
   "cell_type": "markdown",
   "metadata": {},
   "source": [
    "## osumapper #2: rhythm model\n",
    "\n",
    "Train a rhythm model that decides where to place circles/sliders based on music.\n",
    "\n",
    "If you're using GPU, try setting batch_size parameter to a smaller value (that GPU can handle).\n",
    "\n",
    "TODO: imitate the wavenet structure to see if it gives better accuracy"
   ]
  },
  {
   "cell_type": "code",
   "execution_count": null,
   "metadata": {},
   "outputs": [],
   "source": [
    "from act_train_rhythm import *;\n",
    "\n",
    "train_params = {\n",
    "    \"divisor\" : 4,\n",
    "    \"train_epochs\" : 16\n",
    "};"
   ]
  },
  {
   "cell_type": "markdown",
   "metadata": {},
   "source": [
    "Train the model. Accuracy should be about 0.7 to 0.8 based on my tests."
   ]
  },
  {
   "cell_type": "code",
   "execution_count": null,
   "metadata": {},
   "outputs": [],
   "source": [
    "step2_train_model(train_params)\n",
    "step2_evaluate()"
   ]
  },
  {
   "cell_type": "markdown",
   "metadata": {},
   "source": [
    "Done! now save the model to the disk."
   ]
  },
  {
   "cell_type": "code",
   "execution_count": null,
   "metadata": {},
   "outputs": [],
   "source": [
    "step2_save()"
   ]
  },
  {
   "cell_type": "markdown",
   "metadata": {},
   "source": [
    "## osumapper #3: flow dataset construction\n",
    "\n",
    "Construct a dataset for the map flow generator."
   ]
  },
  {
   "cell_type": "code",
   "execution_count": 1,
   "metadata": {},
   "outputs": [],
   "source": [
    "from act_flow_ds import *;\n",
    "\n",
    "flow_dataset_params = step3_set_params(note_group_size=10, step_size=5);\n",
    "maps_flow = step3_read_maps_flow(flow_dataset_params);\n",
    "step3_save_flow_dataset(maps_flow);"
   ]
  },
  {
   "cell_type": "markdown",
   "metadata": {},
   "source": [
    "That's it! The models are trained. Start making a new map with the other notebook."
   ]
  }
 ],
 "metadata": {
  "kernelspec": {
   "display_name": "Python 3",
   "language": "python",
   "name": "python3"
  },
  "language_info": {
   "codemirror_mode": {
    "name": "ipython",
    "version": 3
   },
   "file_extension": ".py",
   "mimetype": "text/x-python",
   "name": "python",
   "nbconvert_exporter": "python",
   "pygments_lexer": "ipython3",
   "version": "3.8.3"
  }
 },
 "nbformat": 4,
 "nbformat_minor": 2
}
