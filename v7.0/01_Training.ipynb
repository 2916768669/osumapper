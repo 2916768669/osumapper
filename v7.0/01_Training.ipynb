{
 "cells": [
  {
   "cell_type": "markdown",
   "metadata": {},
   "source": [
    "## osumapper #1: Map Dataset Reader\n",
    "\n",
    "Read the map list and convert maps to formats Python can use."
   ]
  },
  {
   "cell_type": "markdown",
   "metadata": {},
   "source": [
    "### IMPORTANT!! First fill \"maplist.txt\" with paths of .osu files you want to train with !!!\n",
    "\n",
    "The default model is trained with the Sota dataset including 44 maps of Sota Fujimori music.\n",
    "\n",
    "**Tip:** Don't train with your every single map. Find good maps (maps you like) with relatively similar difficulty.\n",
    "\n",
    "After that, run the grid below to convert the maps."
   ]
  },
  {
   "cell_type": "code",
   "execution_count": null,
   "metadata": {},
   "outputs": [],
   "source": [
    "from act_data_prep import * \n",
    "\n",
    "step1_load_maps();\n",
    "\n",
    "# If any map causes bug please tell me!! https://discord.gg/npmSy7K"
   ]
  },
  {
   "cell_type": "markdown",
   "metadata": {},
   "source": [
    "## osumapper #2: rhythm model\n",
    "\n",
    "Train a rhythm model that decides where to place circles/sliders based on music.\n",
    "\n",
    "If you're using GPU, try setting batch_size parameter to a smaller value (that GPU can handle)."
   ]
  },
  {
   "cell_type": "code",
   "execution_count": null,
   "metadata": {},
   "outputs": [],
   "source": [
    "from act_train_rhythm import *;\n",
    "\n",
    "train_params = {\n",
    "    \"divisor\" : 4,\n",
    "    \"train_epochs\" : 16\n",
    "};\n",
    "model = step2_build_model()"
   ]
  },
  {
   "cell_type": "markdown",
   "metadata": {},
   "source": [
    "Train the model. Accuracy should be about 0.7 to 0.8 based on my tests."
   ]
  },
  {
   "cell_type": "code",
   "execution_count": null,
   "metadata": {},
   "outputs": [],
   "source": [
    "model = step2_train_model(model, train_params)\n",
    "step2_evaluate(model)"
   ]
  },
  {
   "cell_type": "markdown",
   "metadata": {},
   "source": [
    "Done! now save the model to the disk."
   ]
  },
  {
   "cell_type": "code",
   "execution_count": null,
   "metadata": {},
   "outputs": [],
   "source": [
    "step2_save(model)"
   ]
  },
  {
   "cell_type": "markdown",
   "metadata": {},
   "source": [
    "## osumapper #3: flow dataset construction\n",
    "\n",
    "Construct a dataset for the map flow generator."
   ]
  },
  {
   "cell_type": "code",
   "execution_count": null,
   "metadata": {},
   "outputs": [],
   "source": [
    "from act_flow_ds import *;\n",
    "\n",
    "flow_dataset_params = step3_set_params(note_group_size=10, step_size=5);\n",
    "maps_flow = step3_read_maps_flow(flow_dataset_params);\n",
    "step3_save_flow_dataset(maps_flow);"
   ]
  },
  {
   "cell_type": "markdown",
   "metadata": {},
   "source": [
    "That's it! The models are trained. Start making a new map with the other notebook."
   ]
  }
 ],
 "metadata": {
  "kernelspec": {
   "display_name": "Python 3",
   "language": "python",
   "name": "python3"
  },
  "language_info": {
   "codemirror_mode": {
    "name": "ipython",
    "version": 3
   },
   "file_extension": ".py",
   "mimetype": "text/x-python",
   "name": "python",
   "nbconvert_exporter": "python",
   "pygments_lexer": "ipython3",
   "version": "3.8.5"
  }
 },
 "nbformat": 4,
 "nbformat_minor": 2
}
