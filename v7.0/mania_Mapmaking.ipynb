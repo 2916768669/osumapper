{
 "cells": [
  {
   "cell_type": "markdown",
   "metadata": {},
   "source": [
    "## osumapper #4: New Map Reader\n"
   ]
  },
  {
   "cell_type": "markdown",
   "metadata": {},
   "source": [
    "Set the input file string to a timed (having the right BPM/offset) .osu file.\n",
    "\n",
    "It converts the map/music to Python readable format."
   ]
  },
  {
   "cell_type": "code",
   "execution_count": null,
   "metadata": {},
   "outputs": [],
   "source": [
    "from act_newmap_prep import *\n",
    "\n",
    "# input file here! (don't remove the \"r\" before string)\n",
    "file_path = r'..\\..\\test_data\\test_mania.osu'\n",
    "\n",
    "# Or use auto timing with music file only!! \n",
    "# *** edit the osu file template (assets/template.osu) for Mode:3 and CircleSize:<key_count> to use this in mania mode ***\n",
    "\n",
    "# from act_timing import *;\n",
    "# music_path = r\"..\\..\\test_data\\audio.mp3\"\n",
    "# file_path = get_timed_osu_file(music_path);\n",
    "\n",
    "step4_read_new_map(file_path);"
   ]
  },
  {
   "cell_type": "markdown",
   "metadata": {},
   "source": [
    "## osumapper #5: Rhythm Predictor\n",
    "\n",
    "Calculates a map's rhythm based on the music and timing."
   ]
  },
  {
   "cell_type": "markdown",
   "metadata": {},
   "source": [
    "Parameters:\n",
    "\n",
    "\"note_density\" determines how many notes will be placed on the timeline, ranges from 0 to 1.<br>\n",
    "\"hold_favor\" determines how the model favors holds against circles, ranges from -1 to 1.<br>\n",
    "\"divisor_favor\" determines how the model favors notes to be on X divisors starting from a beat (white, blue, red, blue), ranges from -1 to 1 each.<br>\n",
    "\"hold_max_ticks\" determines the max amount of time a hold can hold off, ranges from 1 to +∞.<br>\n",
    "\"hold_min_return\" determines the final granularity of the pattern dataset, ranges from 1 to +∞.<br>\n",
    "\"rotate_mode\" determines how the patterns from the dataset gets rotated. modes (0,1,2,3,4)\n",
    "- 0 = no rotation\n",
    "- 1 = random\n",
    "- 2 = mirror\n",
    "- 3 = circulate\n",
    "- 4 = circulate + mirror"
   ]
  },
  {
   "cell_type": "code",
   "execution_count": null,
   "metadata": {},
   "outputs": [],
   "source": [
    "from mania_act_rhythm_calc import *\n",
    "\n",
    "model = step5_load_model();\n",
    "npz = step5_load_npz();\n",
    "params = step5_set_params(note_density=0.5, hold_favor=0, divisor_favor=[0] * divisor, hold_max_ticks=8, hold_min_return=1, rotate_mode=4);\n",
    "\n",
    "predictions = step5_predict_notes(model, npz, params);"
   ]
  },
  {
   "cell_type": "code",
   "execution_count": null,
   "metadata": {},
   "outputs": [],
   "source": [
    "notes_each_key = step5_build_pattern(predictions, params);"
   ]
  },
  {
   "cell_type": "markdown",
   "metadata": {},
   "source": [
    "Do a little modding to the map.\n",
    "\n",
    "Parameters:\n",
    "\n",
    "- remove_trills: modes (0,1,2) 0=inactive 1=remove from start 2=remove from end 3=divert (TODO next)"
   ]
  },
  {
   "cell_type": "code",
   "execution_count": null,
   "metadata": {},
   "outputs": [],
   "source": [
    "# from mania_act_modding import *\n",
    "\n",
    "# modding_params = {\n",
    "#     \"remove_trills\" : 1\n",
    "# }\n",
    "\n",
    "# notes_each_key = mania_modding(notes_each_key, modding_params);\n",
    "notes, key_count = merge_objects_each_key(notes_each_key)"
   ]
  },
  {
   "cell_type": "markdown",
   "metadata": {},
   "source": [
    "Finally, save the data into an .osu file!"
   ]
  },
  {
   "cell_type": "code",
   "execution_count": null,
   "metadata": {},
   "outputs": [],
   "source": [
    "from mania_act_final import *\n",
    "\n",
    "saved_osu_name = step8_save_osu_mania_file(notes, key_count);\n",
    "\n",
    "# clean up the folder\n",
    "step8_clean_up();"
   ]
  },
  {
   "cell_type": "markdown",
   "metadata": {},
   "source": [
    "If it works alright, you should have a nice .osu file under the folder of these notebooks now!\n",
    "\n",
    "If it does not work, please tell me the problem so probably I could fix it!\n",
    "\n",
    "@2020/10/27"
   ]
  }
 ],
 "metadata": {
  "kernelspec": {
   "display_name": "Python 3",
   "language": "python",
   "name": "python3"
  },
  "language_info": {
   "codemirror_mode": {
    "name": "ipython",
    "version": 3
   },
   "file_extension": ".py",
   "mimetype": "text/x-python",
   "name": "python",
   "nbconvert_exporter": "python",
   "pygments_lexer": "ipython3",
   "version": "3.8.3"
  }
 },
 "nbformat": 4,
 "nbformat_minor": 2
}
