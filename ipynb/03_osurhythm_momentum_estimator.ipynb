{
 "cells": [
  {
   "cell_type": "markdown",
   "metadata": {
    "deletable": true,
    "editable": true
   },
   "source": [
    "### osu!nn #3: momentum estimator\n",
    "\n",
    "Builds up a model to estimate the momentum - distance over time interval, from the training data.\n",
    "\n",
    "It might be more accurate to be proportional to circle size, might implement later.\n",
    "\n",
    "Synthesis of \"momentumModel\"\n",
    "* rhythmData x 1\n",
    "* (Audio) x 1\n",
    "* (Regressor) x 1\n",
    "\n",
    "Synthesis Time: ~5 mins\n",
    "\n",
    "Final edit: 2018/8/16"
   ]
  },
  {
   "cell_type": "code",
   "execution_count": 14,
   "metadata": {
    "collapsed": true,
    "deletable": true,
    "editable": true
   },
   "outputs": [],
   "source": [
    "import tensorflow as tf\n",
    "from tensorflow import keras\n",
    "import pandas as pd\n",
    "import numpy as np\n",
    "import matplotlib.pyplot as plt\n",
    "import os, re"
   ]
  },
  {
   "cell_type": "code",
   "execution_count": 15,
   "metadata": {
    "collapsed": true,
    "deletable": true,
    "editable": true
   },
   "outputs": [],
   "source": [
    "root = \"..\\\\osureader\\\\mapdata\";\n",
    "\n",
    "divisor = 4;\n",
    "\n",
    "max_x = 512;\n",
    "max_y = 384;"
   ]
  },
  {
   "cell_type": "code",
   "execution_count": 16,
   "metadata": {
    "collapsed": false,
    "deletable": true,
    "editable": true
   },
   "outputs": [],
   "source": [
    "# lst file, [TICK, TIME, NOTE, IS_CIRCLE, IS_SLIDER, IS_SPINNER, IS_SLIDER_END, IS_SPINNER_END, \n",
    "#               0,    1,    2,         3,         4,          5,             6,              7,\n",
    "#            SLIDING, SPINNING, MOMENTUM, ANGULAR_MOMENTUM, EX1, EX2, EX3], length MAPTICKS\n",
    "#                  8,        9,       10,               11,  12,  13,  14,\n",
    "# wav file, [len(snapsize), MAPTICKS, 2, fft_size//4]\n",
    "def read_npz(fn):\n",
    "    with np.load(fn) as data:\n",
    "        wav_data = data[\"wav\"];\n",
    "        wav_data = np.swapaxes(wav_data, 2, 3);\n",
    "        train_data = wav_data;\n",
    "        div_source = data[\"lst\"][:, 0];\n",
    "        div_source2 = data[\"lst\"][:, 12:15];\n",
    "        div_data = np.concatenate([np.array([[int(k%4==0), int(k%4==1), int(k%4==2), int(k%4==3)] for k in div_source]), div_source2], axis=1);\n",
    "        lst_data = data[\"lst\"][:, 10:12];\n",
    "        train_labels = lst_data;\n",
    "    return train_data, div_data, train_labels;\n",
    "\n",
    "def read_all_npzs():\n",
    "    td_list = [];\n",
    "    dd_list = [];\n",
    "    tl_list = [];\n",
    "    for file in os.listdir(root):\n",
    "        if file.endswith(\".npz\"):\n",
    "            _td, _dd, _tl = read_npz(os.path.join(root, file));\n",
    "            td_list.append(_td);\n",
    "            dd_list.append(_dd);\n",
    "            tl_list.append(_tl);\n",
    "    train_data = np.concatenate(td_list);\n",
    "    div_data = np.concatenate(dd_list);\n",
    "    train_labels = np.concatenate(tl_list);\n",
    "    \n",
    "    # should be (X, 3, 64, 2) and (X, 6) in default sampling settings\n",
    "    # (X, fft_window_type, freq_point, magnitude/phase)\n",
    "    # X = 67142\n",
    "    # print(train_data.shape, train_labels.shape);\n",
    "    return train_data, div_data, train_labels;\n",
    "                \n",
    "(train_data, div_data, train_labels) = read_all_npzs();"
   ]
  },
  {
   "cell_type": "code",
   "execution_count": 17,
   "metadata": {
    "collapsed": false,
    "deletable": true,
    "editable": true
   },
   "outputs": [],
   "source": [
    "# Normalize training data\n",
    "\n",
    "mean = train_data.mean(axis=0)\n",
    "std = train_data.std(axis=0)\n",
    "train_data = (train_data - np.tile(mean, (train_data.shape[0], 1,1,1))) / np.tile(std, (train_data.shape[0], 1,1,1))\n",
    "\n",
    "# empty_labels = [i for i, label in enumerate(train_labels) if label[0] == 0 and label[1] == 0];\n",
    "nonempty_labels = np.array([i for i, label in enumerate(train_labels) if (label[0] != 0 or label[1] != 0) and not np.isnan(label[0]) and not np.isnan(label[1]) and label[0] > -10 and label[0] < 10 and label[1] > -10 and label[1] < 10]);\n",
    "\n",
    "\n",
    "# Remove empty entries\n",
    "\n",
    "train_data = train_data[nonempty_labels];\n",
    "div_data = div_data[nonempty_labels];\n",
    "train_labels = train_labels[nonempty_labels];\n",
    "train_glob_max = train_labels.max(axis=0);\n",
    "train_glob_min = train_labels.min(axis=0);\n",
    "train_labels_normalized = (train_labels - train_glob_min)/(train_glob_max - train_glob_min) * 0.8 * 2 - 1;\n"
   ]
  },
  {
   "cell_type": "markdown",
   "metadata": {
    "deletable": true,
    "editable": true
   },
   "source": [
    "The train_glob_max and train_glob_min parameters need to be saved and subsequently used to scale results in momentum prediction.\n",
    "\n",
    "momentum_predictions_output = momentum_model.predict([test_data2, div_data2]);\n",
    "\n",
    "momentum_predictions = (momentum_predictions_output.reshape(-1, 2) + 1) / 2 / 0.8 * (train_glob_max - train_glob_min) + train_glob_min;"
   ]
  },
  {
   "cell_type": "code",
   "execution_count": 18,
   "metadata": {
    "collapsed": false,
    "deletable": true,
    "editable": true
   },
   "outputs": [],
   "source": [
    "# Make time intervals from training data\n",
    "time_interval = 16;\n",
    "if train_data.shape[0]%time_interval > 0:\n",
    "    train_data = train_data[:-(train_data.shape[0]%time_interval)];\n",
    "    div_data = div_data[:-(div_data.shape[0]%time_interval)];\n",
    "    train_labels = train_labels[:-(train_labels.shape[0]%time_interval)];\n",
    "    train_labels_normalized = train_labels_normalized[:-(train_labels_normalized.shape[0]%time_interval)];\n",
    "train_data2 = np.reshape(train_data, (-1, time_interval, train_data.shape[1], train_data.shape[2], train_data.shape[3]))\n",
    "div_data2 = np.reshape(div_data, (-1, time_interval, div_data.shape[1]))\n",
    "train_labels2 = np.reshape(train_labels_normalized, (-1, time_interval, train_labels_normalized.shape[1]))"
   ]
  },
  {
   "cell_type": "markdown",
   "metadata": {
    "deletable": true,
    "editable": true
   },
   "source": [
    "Now build the model."
   ]
  },
  {
   "cell_type": "code",
   "execution_count": 19,
   "metadata": {
    "collapsed": false,
    "deletable": true,
    "editable": true
   },
   "outputs": [
    {
     "name": "stdout",
     "output_type": "stream",
     "text": [
      "__________________________________________________________________________________________________\n",
      "Layer (type)                    Output Shape         Param #     Connected to                     \n",
      "==================================================================================================\n",
      "time_distributed_9_input (Input (None, 16, 7, 32, 2) 0                                            \n",
      "__________________________________________________________________________________________________\n",
      "time_distributed_9 (TimeDistrib (None, 16, 6, 31, 16 144         time_distributed_9_input[0][0]   \n",
      "__________________________________________________________________________________________________\n",
      "time_distributed_10 (TimeDistri (None, 16, 6, 15, 16 0           time_distributed_9[0][0]         \n",
      "__________________________________________________________________________________________________\n",
      "time_distributed_11 (TimeDistri (None, 16, 6, 15, 16 0           time_distributed_10[0][0]        \n",
      "__________________________________________________________________________________________________\n",
      "time_distributed_12 (TimeDistri (None, 16, 6, 15, 16 0           time_distributed_11[0][0]        \n",
      "__________________________________________________________________________________________________\n",
      "time_distributed_13 (TimeDistri (None, 16, 5, 13, 16 1552        time_distributed_12[0][0]        \n",
      "__________________________________________________________________________________________________\n",
      "time_distributed_14 (TimeDistri (None, 16, 5, 6, 16) 0           time_distributed_13[0][0]        \n",
      "__________________________________________________________________________________________________\n",
      "time_distributed_15 (TimeDistri (None, 16, 5, 6, 16) 0           time_distributed_14[0][0]        \n",
      "__________________________________________________________________________________________________\n",
      "time_distributed_16 (TimeDistri (None, 16, 5, 6, 16) 0           time_distributed_15[0][0]        \n",
      "__________________________________________________________________________________________________\n",
      "time_distributed_17 (TimeDistri (None, 16, 480)      0           time_distributed_16[0][0]        \n",
      "__________________________________________________________________________________________________\n",
      "lstm_1 (LSTM)                   (None, 16, 64)       139520      time_distributed_17[0][0]        \n",
      "__________________________________________________________________________________________________\n",
      "input_2 (InputLayer)            (None, 16, 7)        0                                            \n",
      "__________________________________________________________________________________________________\n",
      "concatenate_1 (Concatenate)     (None, 16, 71)       0           lstm_1[0][0]                     \n",
      "                                                                 input_2[0][0]                    \n",
      "__________________________________________________________________________________________________\n",
      "dense_3 (Dense)                 (None, 16, 71)       5112        concatenate_1[0][0]              \n",
      "__________________________________________________________________________________________________\n",
      "dense_4 (Dense)                 (None, 16, 71)       5112        dense_3[0][0]                    \n",
      "__________________________________________________________________________________________________\n",
      "dense_5 (Dense)                 (None, 16, 2)        144         dense_4[0][0]                    \n",
      "==================================================================================================\n",
      "Total params: 151,584\n",
      "Trainable params: 151,584\n",
      "Non-trainable params: 0\n",
      "__________________________________________________________________________________________________\n"
     ]
    }
   ],
   "source": [
    "from tensorflow.keras.models import Model;\n",
    "\n",
    "def build_model():\n",
    "    model1 = keras.Sequential([\n",
    "        keras.layers.TimeDistributed(keras.layers.Conv2D(16, (2, 2),\n",
    "                           data_format='channels_last'),\n",
    "                           input_shape=(time_interval, train_data2.shape[2], train_data2.shape[3], train_data2.shape[4])),\n",
    "        keras.layers.TimeDistributed(keras.layers.MaxPool2D((1, 2),\n",
    "                           data_format='channels_last')),\n",
    "        keras.layers.TimeDistributed(keras.layers.Activation(activation=tf.nn.relu)),\n",
    "        keras.layers.TimeDistributed(keras.layers.Dropout(0.3)),\n",
    "        keras.layers.TimeDistributed(keras.layers.Conv2D(16, (2, 3),\n",
    "                           data_format='channels_last')),\n",
    "        keras.layers.TimeDistributed(keras.layers.MaxPool2D((1, 2),\n",
    "                           data_format='channels_last')),\n",
    "        keras.layers.TimeDistributed(keras.layers.Activation(activation=tf.nn.relu)),\n",
    "        keras.layers.TimeDistributed(keras.layers.Dropout(0.3)),\n",
    "        keras.layers.TimeDistributed(keras.layers.Flatten()),\n",
    "        keras.layers.LSTM(64, activation=tf.nn.tanh, return_sequences=True)\n",
    "    ])\n",
    "    \n",
    "    input2 = keras.layers.InputLayer(input_shape=(time_interval, div_data.shape[1]));\n",
    "    \n",
    "    conc = keras.layers.concatenate([model1.output, input2.output]);\n",
    "    dense1 = keras.layers.Dense(71, activation=tf.nn.tanh)(conc);\n",
    "    dense2 = keras.layers.Dense(71, activation=tf.nn.relu)(dense1);\n",
    "    dense3 = keras.layers.Dense(2, activation=tf.nn.tanh)(dense2);\n",
    "    \n",
    "#     model2 = keras.Sequential([\n",
    "#         keras.layers.Concatenate(64, activation=tf.nn.tanh),\n",
    "#         keras.layers.Dense(64, activation=tf.nn.tanh),\n",
    "#         keras.layers.Dense(64, activation=tf.nn.relu),\n",
    "#         #    keras.layers.Reshape((4,8)),\n",
    "#         #    keras.layers.Conv1D(8,2),\n",
    "#         #    keras.layers.Flatten(),\n",
    "#         keras.layers.Dense(6, activation=tf.nn.tanh)\n",
    "#     ])\n",
    "\n",
    "    optimizer = tf.train.RMSPropOptimizer(0.001);\n",
    "\n",
    "    \n",
    "    final_model = Model(inputs=[model1.input, input2.input], outputs=dense3);\n",
    "    final_model.compile(loss='mse',\n",
    "                optimizer=optimizer,\n",
    "                metrics=['mae'])\n",
    "    return final_model\n",
    "\n",
    "model = build_model()\n",
    "model.summary()\n",
    "\n",
    "def plot_history(history):\n",
    "    plt.figure()\n",
    "    plt.xlabel('Epoch')\n",
    "    plt.ylabel('Mean Abs Error [Limitless]')\n",
    "    plt.plot(history.epoch, np.array(history.history['mean_absolute_error']), \n",
    "           label='Train MAE')\n",
    "    plt.plot(history.epoch, np.array(history.history['val_mean_absolute_error']),\n",
    "           label = 'Val MAE')\n",
    "    plt.plot(history.epoch, np.array(history.history['loss']), \n",
    "           label='Train Loss')\n",
    "    plt.plot(history.epoch, np.array(history.history['val_loss']),\n",
    "           label = 'Val Loss')\n",
    "    plt.legend()\n",
    "    plt.show()\n",
    "\n",
    "# Display training progress by printing a single dot for each completed epoch.\n",
    "class PrintDot(keras.callbacks.Callback):\n",
    "    def on_epoch_end(self,epoch,logs):\n",
    "        if epoch % 100 == 0: print('')\n",
    "        print('.', end='')\n",
    "\n",
    "early_stop = keras.callbacks.EarlyStopping(monitor='val_loss', patience=20)\n",
    "\n"
   ]
  },
  {
   "cell_type": "markdown",
   "metadata": {
    "deletable": true,
    "editable": true
   },
   "source": [
    "ぐるぐる。"
   ]
  },
  {
   "cell_type": "code",
   "execution_count": 20,
   "metadata": {
    "collapsed": false,
    "deletable": true,
    "editable": true
   },
   "outputs": [
    {
     "name": "stdout",
     "output_type": "stream",
     "text": [
      "\n",
      "........"
     ]
    },
    {
     "data": {
      "image/png": "[encoded data removed]",
      "text/plain": [
       "<matplotlib.figure.Figure at 0x24e1b0c5f60>"
      ]
     },
     "metadata": {},
     "output_type": "display_data"
    },
    {
     "name": "stdout",
     "output_type": "stream",
     "text": [
      "\n",
      "Testing set Mean Abs Error: $  63.18\n",
      "Mean Abs Error: 0.0631794270573\n"
     ]
    }
   ],
   "source": [
    "EPOCHS = 8\n",
    "\n",
    "test_split_count = 42\n",
    "\n",
    "# Split some test data out\n",
    "new_train_data = train_data2[:-test_split_count];\n",
    "new_div_data = div_data2[:-test_split_count];\n",
    "new_train_labels = train_labels2[:-test_split_count];\n",
    "test_data = train_data2[-test_split_count:];\n",
    "test_div_data = div_data2[-test_split_count:];\n",
    "test_labels = train_labels2[-test_split_count:];\n",
    "\n",
    "# Store training stats\n",
    "history = model.fit([new_train_data, new_div_data], new_train_labels, epochs=EPOCHS,\n",
    "                    validation_split=0.2, verbose=0, \n",
    "                    callbacks=[early_stop, PrintDot()])\n",
    "\n",
    "plot_history(history)\n",
    "\n",
    "[loss, mae] = model.evaluate([test_data, test_div_data], test_labels, verbose=0)\n",
    "\n",
    "print(\"\\nTesting set Mean Abs Error: ${:7.2f}\".format(mae * 1000))\n",
    "\n",
    "test_predictions = model.predict([test_data, test_div_data]).reshape((-1, time_interval, 2))\n",
    "\n",
    "# print(test_predictions)\n",
    "# print(test_labels)\n",
    "# print(test_predictions - list(test_labels))\n",
    "print(\"Mean Abs Error: \"+str(np.mean(np.abs(test_predictions - test_labels))))"
   ]
  },
  {
   "cell_type": "code",
   "execution_count": null,
   "metadata": {
    "collapsed": false,
    "deletable": true,
    "editable": true
   },
   "outputs": [],
   "source": []
  },
  {
   "cell_type": "markdown",
   "metadata": {
    "deletable": true,
    "editable": true
   },
   "source": [
    "Save the minmax and the model."
   ]
  },
  {
   "cell_type": "code",
   "execution_count": 21,
   "metadata": {
    "collapsed": false,
    "deletable": true,
    "editable": true
   },
   "outputs": [
    {
     "name": "stdout",
     "output_type": "stream",
     "text": [
      "WARNING:tensorflow:TensorFlow optimizers do not make it possible to access optimizer attributes or optimizer state after instantiation. As a result, we cannot save the optimizer as part of the model save file.You will have to compile your model again after loading it. Prefer using a Keras optimizer instead (see keras.io/optimizers).\n"
     ]
    }
   ],
   "source": [
    "np.save(\"momentum_minmax\", [train_glob_max, train_glob_min]);\n",
    "\n",
    "tf.keras.models.save_model(\n",
    "    model,\n",
    "    \"saved_rhythm_model_momentums\",\n",
    "    overwrite=True,\n",
    "    include_optimizer=True\n",
    ");\n",
    "\n",
    "# WARNING:tensorflow:TensorFlow optimizers do not make it possible to access optimizer attributes or optimizer\n",
    "# state after instantiation. As a result, we cannot save the optimizer as part of the model save file.You will\n",
    "# have to compile your model again after loading it. Prefer using a Keras optimizer instead (see keras.io/optimizers).\n"
   ]
  }
 ],
 "metadata": {
  "kernelspec": {
   "display_name": "Python 3",
   "language": "python",
   "name": "python3"
  },
  "language_info": {
   "codemirror_mode": {
    "name": "ipython",
    "version": 3
   },
   "file_extension": ".py",
   "mimetype": "text/x-python",
   "name": "python",
   "nbconvert_exporter": "python",
   "pygments_lexer": "ipython3",
   "version": "3.5.2"
  }
 },
 "nbformat": 4,
 "nbformat_minor": 2
}
