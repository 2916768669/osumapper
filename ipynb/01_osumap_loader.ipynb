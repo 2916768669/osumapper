{
 "cells": [
  {
   "cell_type": "markdown",
   "metadata": {
    "deletable": true,
    "editable": true
   },
   "source": [
    "### osu!nn #1: Map Dataset Reader\n",
    "\n",
    "This notebook reads a file \"maplist.txt\", then reads the .osu files and the relevant music files to convert into some data.\n",
    "\n",
    "Data that feeds the Deep Neural Network.\n",
    "\n",
    "Last edit: 2018/8/16"
   ]
  },
  {
   "cell_type": "markdown",
   "metadata": {
    "deletable": true,
    "editable": true
   },
   "source": [
    "First of all, we need to install FFmpeg and specify its path here. It is needed to convert the .mp3 files to .wavs which Python can read.\n",
    "\n",
    "It's also fine to use any other converter, such as LAME: just edit the 24th line of osureader.py (starting with \"subprocess.call\") for the converter's parameters.\n",
    "\n",
    "**Then, fill maplist.txt  with the paths of .osu files you want to train with.** Otherwise it cannot find any of the maps because the maps are on my computer. The default model is trained with the Sota dataset including 44 maps of Sota Fujimori music.\n",
    "\n",
    "After that run the grid below to convert the maps."
   ]
  },
  {
   "cell_type": "code",
   "execution_count": 1,
   "metadata": {
    "collapsed": false,
    "deletable": true,
    "editable": true
   },
   "outputs": [
    {
     "name": "stdout",
     "output_type": "stream",
     "text": [
      "Number of filtered maps: 44\n",
      "Map data #0 saved! time = 4.077780723571777 secs\n",
      "Map data #1 saved! time = 1.609260082244873 secs\n",
      "Map data #2 saved! time = 1.6092565059661865 secs\n",
      "Map data #3 saved! time = 1.765498399734497 secs\n",
      "Map data #4 saved! time = 3.9528415203094482 secs\n",
      "Map data #5 saved! time = 4.062209844589233 secs\n",
      "Map data #6 saved! time = 4.405931234359741 secs\n",
      "Map data #7 saved! time = 1.8123753070831299 secs\n",
      "Map data #8 saved! time = 1.5780107975006104 secs\n",
      "Map data #9 saved! time = 1.5311532020568848 secs\n",
      "Map data #10 saved! time = 2.593546152114868 secs\n",
      "Map data #11 saved! time = 1.5623893737792969 secs\n",
      "Map data #12 saved! time = 4.062205791473389 secs\n",
      "Map data #13 saved! time = 2.24984073638916 secs\n",
      "Map data #14 saved! time = 1.7811191082000732 secs\n",
      "Map data #15 saved! time = 2.1560957431793213 secs\n",
      "Map data #16 saved! time = 1.7342572212219238 secs\n",
      "Map data #17 saved! time = 1.796741008758545 secs\n",
      "Map data #18 saved! time = 1.6561474800109863 secs\n",
      "Map data #19 saved! time = 1.5936193466186523 secs\n",
      "Map data #20 saved! time = 1.703000545501709 secs\n",
      "Map data #21 saved! time = 2.0154809951782227 secs\n",
      "Map data #22 saved! time = 2.3748295307159424 secs\n",
      "Map data #23 saved! time = 2.82792067527771 secs\n",
      "Map data #24 saved! time = 5.171504020690918 secs\n",
      "Map data #25 saved! time = 1.8123700618743896 secs\n",
      "Map data #26 saved! time = 2.2342143058776855 secs\n",
      "Map data #27 saved! time = 1.7342662811279297 secs\n",
      "Map data #28 saved! time = 1.7498574256896973 secs\n",
      "Map data #29 saved! time = 1.7342514991760254 secs\n",
      "Map data #30 saved! time = 1.9998574256896973 secs\n",
      "Map data #31 saved! time = 1.9998717308044434 secs\n",
      "Map data #32 saved! time = 2.015463352203369 secs\n",
      "Map data #33 saved! time = 3.6559865474700928 secs\n",
      "Map data #34 saved! time = 1.6092772483825684 secs\n",
      "Map data #35 saved! time = 1.6717545986175537 secs\n",
      "Map data #36 saved! time = 1.6092588901519775 secs\n",
      "Map data #37 saved! time = 1.3436551094055176 secs\n",
      "Map data #38 saved! time = 1.3905088901519775 secs\n",
      "Map data #39 saved! time = 1.796748399734497 secs\n",
      "Map data #40 saved! time = 4.76530122756958 secs\n",
      "Map data #41 saved! time = 1.9685852527618408 secs\n",
      "Map data #42 saved! time = 1.7498743534088135 secs\n",
      "Map data #43 saved! time = 3.2185375690460205 secs\n"
     ]
    }
   ],
   "source": [
    "import os, re, time\n",
    "from osureader import * \n",
    "\n",
    "GLOBAL_VARS[\"ffmpeg_path\"] = \"D:\\\\StudyData\\\\Tensorflow\\\\ffmpeg\\\\bin\\\\ffmpeg.exe\";\n",
    "# or we can add ffmpeg path to PATH environment variable and,\n",
    "# or in gcolab/linux,\n",
    "# GLOBAL_VARS[\"ffmpeg_path\"] = \"ffmpeg\";\n",
    "\n",
    "mapdata_path = \"mapdata/\";\n",
    "\n",
    "with open(\"maplist.txt\") as fp:\n",
    "    fcont = fp.readlines();\n",
    "\n",
    "# The following part is something I used to filter maps with difficulty names.\n",
    "# Hmmmmm...\n",
    "results = [];\n",
    "# exclude_words = [\"Easy\", \"Normal\", \"Hard\", \"Taiko\", \"Salad\", \"Platter\", \"Overdose\", \"Rain\", \"4K\", \"5K\", \"6K\", \"7K\", \"8K\", \"9K\",\n",
    "#                  \"Kantan\", \"Futsuu\", \"Muzukashii\", \"Oni\", \"Field \"];\n",
    "for line in fcont:\n",
    "#     if re.search(\"TV\", line):\n",
    "#         apd = True;\n",
    "#         for kw in exclude_words:\n",
    "#             if kw.lower() in line.strip().lower():\n",
    "#                 apd = False;\n",
    "#                 break;\n",
    "#         if apd:\n",
    "#             results.append(line.strip());\n",
    "    results.append(line);\n",
    "\n",
    "# Remove the originally existing npzs\n",
    "for file in os.listdir(mapdata_path):\n",
    "    if file.endswith(\".npz\"):\n",
    "        os.remove(os.path.join(mapdata_path, file));\n",
    "\n",
    "print(\"Number of filtered maps: {}\".format(len(results)));\n",
    "\n",
    "for k, mname in enumerate(results):\n",
    "#     try:\n",
    "    start = time.time()\n",
    "    read_and_save_osu_file(mname.strip(), filename=os.path.join(mapdata_path, str(k)));\n",
    "    end = time.time()\n",
    "    print(\"Map data #\" + str(k) + \" saved! time = \" + str(end - start) + \" secs\");\n",
    "#     except:\n",
    "#         print(\"Error occurred on map # \" + str(k));\n",
    "\n",
    "# If some map causes bug please tell me!! https://discord.gg/6t897aA"
   ]
  }
 ],
 "metadata": {
  "kernelspec": {
   "display_name": "Python 3",
   "language": "python",
   "name": "python3"
  },
  "language_info": {
   "codemirror_mode": {
    "name": "ipython",
    "version": 3
   },
   "file_extension": ".py",
   "mimetype": "text/x-python",
   "name": "python",
   "nbconvert_exporter": "python",
   "pygments_lexer": "ipython3",
   "version": "3.5.2"
  }
 },
 "nbformat": 4,
 "nbformat_minor": 2
}
