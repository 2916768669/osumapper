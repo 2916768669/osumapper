{
 "cells": [
  {
   "cell_type": "markdown",
   "metadata": {
    "deletable": true,
    "editable": true
   },
   "source": [
    "### osu!nn #1: Map Dataset Reader\n",
    "\n",
    "This notebook reads a file \"maplist.txt\", then reads the .osu files and the relevant music files to convert into some data.\n",
    "\n",
    "Data that feeds the Deep Neural Network.\n",
    "\n",
    "Last edit: 2018/8/16"
   ]
  },
  {
   "cell_type": "markdown",
   "metadata": {
    "deletable": true,
    "editable": true
   },
   "source": [
    "First of all, we need to install FFmpeg and specify its path here. It is needed to convert the .mp3 files to .wavs which Python can read.\n",
    "\n",
    "It's also fine to use any other converter, such as LAME: just edit the 24th line of osureader.py (starting with \"subprocess.call\") for the converter's parameters.\n",
    "\n",
    "**Then, fill maplist.txt  with the paths of .osu files you want to train with.** Otherwise it cannot find any of the maps because the path is on my computer. The default dataset, also the default models trained, is the Sota dataset including 44 maps of Sota Fujimori music."
   ]
  },
  {
   "cell_type": "code",
   "execution_count": 1,
   "metadata": {
    "collapsed": false,
    "deletable": true,
    "editable": true
   },
   "outputs": [
    {
     "name": "stdout",
     "output_type": "stream",
     "text": [
      "Number of filtered maps: 44\n",
      "Map data #0 saved! time = 2.1717116832733154 secs\n",
      "Map data #1 saved! time = 1.328026294708252 secs\n",
      "Map data #2 saved! time = 1.3749182224273682 secs\n",
      "Map data #3 saved! time = 1.6092400550842285 secs\n",
      "Map data #4 saved! time = 2.702928066253662 secs\n",
      "Map data #5 saved! time = 2.937300205230713 secs\n",
      "Map data #6 saved! time = 3.265385389328003 secs\n",
      "Map data #7 saved! time = 1.8123672008514404 secs\n",
      "Map data #8 saved! time = 1.6248631477355957 secs\n",
      "Map data #9 saved! time = 1.6248805522918701 secs\n",
      "Map data #10 saved! time = 2.468571424484253 secs\n",
      "Map data #11 saved! time = 1.4217698574066162 secs\n",
      "Map data #12 saved! time = 3.2497780323028564 secs\n",
      "Map data #13 saved! time = 1.9217255115509033 secs\n",
      "Map data #14 saved! time = 1.82798433303833 secs\n",
      "Map data #15 saved! time = 1.687375783920288 secs\n",
      "Map data #16 saved! time = 1.6092731952667236 secs\n",
      "Map data #17 saved! time = 1.5467441082000732 secs\n",
      "Map data #18 saved! time = 1.5311377048492432 secs\n",
      "Map data #19 saved! time = 1.6248815059661865 secs\n",
      "Map data #20 saved! time = 1.5467784404754639 secs\n",
      "Map data #21 saved! time = 1.4373795986175537 secs\n",
      "Map data #22 saved! time = 1.5155110359191895 secs\n",
      "Map data #23 saved! time = 1.5155150890350342 secs\n",
      "Map data #24 saved! time = 2.9060537815093994 secs\n",
      "Map data #25 saved! time = 1.3280096054077148 secs\n",
      "Map data #26 saved! time = 1.5467627048492432 secs\n",
      "Map data #27 saved! time = 1.4686458110809326 secs\n",
      "Map data #28 saved! time = 1.5311334133148193 secs\n",
      "Map data #29 saved! time = 1.6092567443847656 secs\n",
      "Map data #30 saved! time = 1.4530212879180908 secs\n",
      "Map data #31 saved! time = 1.4842822551727295 secs\n",
      "Map data #32 saved! time = 1.4686241149902344 secs\n",
      "Map data #33 saved! time = 2.2810842990875244 secs\n",
      "Map data #34 saved! time = 1.3436503410339355 secs\n",
      "Map data #35 saved! time = 1.343653678894043 secs\n",
      "Map data #36 saved! time = 1.4374110698699951 secs\n",
      "Map data #37 saved! time = 1.3905205726623535 secs\n",
      "Map data #38 saved! time = 1.2967629432678223 secs\n",
      "Map data #39 saved! time = 1.3280277252197266 secs\n",
      "Map data #40 saved! time = 2.9685323238372803 secs\n",
      "Map data #41 saved! time = 0.9686787128448486 secs\n",
      "Map data #42 saved! time = 1.3436715602874756 secs\n",
      "Map data #43 saved! time = 2.218569040298462 secs\n"
     ]
    }
   ],
   "source": [
    "import os, re, time\n",
    "from osureader import * \n",
    "\n",
    "GLOBAL_VARS[\"ffmpeg_path\"] = \"D:\\\\StudyData\\\\Tensorflow\\\\ffmpeg\\\\bin\\\\ffmpeg.exe\";\n",
    "\n",
    "with open(\"maplist.txt\") as fp:\n",
    "    fcont = fp.readlines();\n",
    "\n",
    "# The following part is something I used to filter maps with the difficulty names.\n",
    "# The Hard Diff mapset seems to lack a bit of... rhythm variety?\n",
    "# Hmmmmm...\n",
    "results = [];\n",
    "for line in fcont:\n",
    "    # if re.search(\"\\\\[Hard\\\\]\", line):\n",
    "    #     results.append(line);\n",
    "    results.append(line);\n",
    "\n",
    "print(\"Number of filtered maps: {}\".format(len(results)));\n",
    "\n",
    "for k, mname in enumerate(results):\n",
    "    start = time.time()\n",
    "    try:\n",
    "        read_and_save_osu_file(mname.strip(), filename=\"mapdata\\\\\" + str(k));\n",
    "    except:\n",
    "        # sometimes it fails, like when the map file is empty.\n",
    "        # another occasion is the map has some zero-distance or negative-distance stuff, which causes load_map.js to fail.\n",
    "        # we should ignorethis.\n",
    "        pass\n",
    "    end = time.time()\n",
    "    print(\"Map data #\" + str(k) + \" saved! time = \" + str(end - start) + \" secs\");"
   ]
  }
 ],
 "metadata": {
  "kernelspec": {
   "display_name": "Python 3",
   "language": "python",
   "name": "python3"
  },
  "language_info": {
   "codemirror_mode": {
    "name": "ipython",
    "version": 3
   },
   "file_extension": ".py",
   "mimetype": "text/x-python",
   "name": "python",
   "nbconvert_exporter": "python",
   "pygments_lexer": "ipython3",
   "version": "3.5.2"
  }
 },
 "nbformat": 4,
 "nbformat_minor": 2
}
