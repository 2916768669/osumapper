{
 "cells": [
  {
   "cell_type": "markdown",
   "metadata": {
    "deletable": true,
    "editable": true
   },
   "source": [
    "### osu!nn #1: Map Dataset Reader\n",
    "\n",
    "This notebook reads a file \"maplist.txt\", then reads the .osu files and the relevant music files to convert into some data.\n",
    "\n",
    "Data that feeds the Deep Neural Network.\n",
    "\n",
    "Last edit: 2018/8/16"
   ]
  },
  {
   "cell_type": "markdown",
   "metadata": {
    "deletable": true,
    "editable": true
   },
   "source": [
    "First of all, we need to install FFmpeg and specify its path here. It is needed to convert the .mp3 files to .wavs which Python can read.\n",
    "\n",
    "It's also fine to use any other converter, such as LAME: just edit the 24th line of osureader.py (starting with \"subprocess.call\") for the converter's parameters.\n",
    "\n",
    "**Then, fill maplist.txt  with the paths of .osu files you want to train with.** Otherwise it cannot find any of the maps because the maps are on my computer. The default model is trained with the Sota dataset including 44 maps of Sota Fujimori music.\n",
    "\n",
    "After that run the grid below to convert the maps."
   ]
  },
  {
   "cell_type": "code",
   "execution_count": 1,
   "metadata": {
    "collapsed": false,
    "deletable": true,
    "editable": true
   },
   "outputs": [
    {
     "name": "stdout",
     "output_type": "stream",
     "text": [
      "Number of filtered maps: 44\n",
      "Map data #0 saved! time = 1.3592784404754639 secs\n",
      "Map data #1 saved! time = 1.3124120235443115 secs\n",
      "Map data #2 saved! time = 1.4217536449432373 secs\n",
      "Map data #3 saved! time = 1.5155267715454102 secs\n",
      "Map data #4 saved! time = 3.077897071838379 secs\n",
      "Map data #5 saved! time = 3.031006097793579 secs\n",
      "Map data #6 saved! time = 3.796591281890869 secs\n",
      "Map data #7 saved! time = 1.7655081748962402 secs\n",
      "Map data #8 saved! time = 1.4842650890350342 secs\n",
      "Map data #9 saved! time = 1.4529986381530762 secs\n",
      "Map data #10 saved! time = 2.6873011589050293 secs\n",
      "Map data #11 saved! time = 1.406144618988037 secs\n",
      "Map data #12 saved! time = 3.7653427124023438 secs\n",
      "Map data #13 saved! time = 1.8123629093170166 secs\n",
      "Map data #14 saved! time = 1.7967431545257568 secs\n",
      "Map data #15 saved! time = 1.765491247177124 secs\n",
      "Map data #16 saved! time = 1.4842638969421387 secs\n",
      "Map data #17 saved! time = 1.6092562675476074 secs\n",
      "Map data #18 saved! time = 1.7186198234558105 secs\n",
      "Map data #19 saved! time = 1.6092731952667236 secs\n",
      "Map data #20 saved! time = 1.5154950618743896 secs\n",
      "Map data #21 saved! time = 1.5623810291290283 secs\n",
      "Map data #22 saved! time = 1.546760082244873 secs\n",
      "Map data #23 saved! time = 1.59364652633667 secs\n",
      "Map data #24 saved! time = 3.827821969985962 secs\n",
      "Map data #25 saved! time = 1.3749165534973145 secs\n",
      "Map data #26 saved! time = 1.577988624572754 secs\n",
      "Map data #27 saved! time = 1.5155291557312012 secs\n",
      "Map data #28 saved! time = 1.452998161315918 secs\n",
      "Map data #29 saved! time = 1.5311534404754639 secs\n",
      "Map data #30 saved! time = 1.4529986381530762 secs\n",
      "Map data #31 saved! time = 1.562398910522461 secs\n",
      "Map data #32 saved! time = 1.5311381816864014 secs\n",
      "Map data #33 saved! time = 2.781024694442749 secs\n",
      "Map data #34 saved! time = 1.3905198574066162 secs\n",
      "Map data #35 saved! time = 1.4686424732208252 secs\n",
      "Map data #36 saved! time = 1.3436470031738281 secs\n",
      "Map data #37 saved! time = 1.2499072551727295 secs\n",
      "Map data #38 saved! time = 1.3592746257781982 secs\n",
      "Map data #39 saved! time = 1.4217703342437744 secs\n",
      "Map data #40 saved! time = 4.046570539474487 secs\n",
      "Map data #41 saved! time = 1.6873915195465088 secs\n",
      "Map data #42 saved! time = 1.3592545986175537 secs\n",
      "Map data #43 saved! time = 2.718548536300659 secs\n"
     ]
    }
   ],
   "source": [
    "import os, re, time\n",
    "from osureader import * \n",
    "\n",
    "GLOBAL_VARS[\"ffmpeg_path\"] = \"D:\\\\StudyData\\\\Tensorflow\\\\ffmpeg\\\\bin\\\\ffmpeg.exe\";\n",
    "# on gcolab\n",
    "# GLOBAL_VARS[\"ffmpeg_path\"] = \"ffmpeg\";\n",
    "\n",
    "mapdata_path = \"mapdata/\";\n",
    "\n",
    "with open(\"maplist.txt\") as fp:\n",
    "    fcont = fp.readlines();\n",
    "\n",
    "# The following part is something I used to filter maps with the difficulty names.\n",
    "# The Hard Diff mapset seems to lack a bit of... rhythm variety?\n",
    "# Hmmmmm...\n",
    "results = [];\n",
    "for line in fcont:\n",
    "    # if re.search(\"\\\\[Hard\\\\]\", line):\n",
    "    #     results.append(line);\n",
    "    results.append(line);\n",
    "\n",
    "print(\"Number of filtered maps: {}\".format(len(results)));\n",
    "\n",
    "for k, mname in enumerate(results):\n",
    "    start = time.time()\n",
    "    try:\n",
    "        read_and_save_osu_file(mname.strip(), filename=os.path.join(mapdata_path, str(k)));\n",
    "    except e:\n",
    "        # sometimes it fails, like when the map file is empty.\n",
    "        # another occasion is the map has some zero-distance or negative-distance stuff, which causes load_map.js to fail.\n",
    "        # we should ignorethis.\n",
    "        print(e);\n",
    "    end = time.time()\n",
    "    print(\"Map data #\" + str(k) + \" saved! time = \" + str(end - start) + \" secs\");"
   ]
  }
 ],
 "metadata": {
  "kernelspec": {
   "display_name": "Python 3",
   "language": "python",
   "name": "python3"
  },
  "language_info": {
   "codemirror_mode": {
    "name": "ipython",
    "version": 3
   },
   "file_extension": ".py",
   "mimetype": "text/x-python",
   "name": "python",
   "nbconvert_exporter": "python",
   "pygments_lexer": "ipython3",
   "version": "3.5.2"
  }
 },
 "nbformat": 4,
 "nbformat_minor": 2
}
