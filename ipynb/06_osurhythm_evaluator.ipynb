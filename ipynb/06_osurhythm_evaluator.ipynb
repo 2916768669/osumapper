{
 "cells": [
  {
   "cell_type": "markdown",
   "metadata": {
    "deletable": true,
    "editable": true
   },
   "source": [
    "### osu!nn #6: Rhythm Predictor\n",
    "\n",
    "Calculates a map's rhythm from the music and the timing.\n",
    "\n",
    "Synthesis of \"rhythmData\"\n",
    "* rhythmModel x 1\n",
    "* momentumModel x 1\n",
    "* timingData x 1\n",
    "* (Music) x 1\n",
    "\n",
    "Synthesis Time: ~2 seconds\n",
    "\n",
    "Final edit: 2018/8/16"
   ]
  },
  {
   "cell_type": "code",
   "execution_count": 1,
   "metadata": {
    "collapsed": true,
    "deletable": true,
    "editable": true
   },
   "outputs": [],
   "source": [
    "import tensorflow as tf\n",
    "from tensorflow import keras\n",
    "import pandas as pd\n",
    "import numpy as np\n",
    "import matplotlib.pyplot as plt\n",
    "import os, re"
   ]
  },
  {
   "cell_type": "code",
   "execution_count": 2,
   "metadata": {
    "collapsed": true,
    "deletable": true,
    "editable": true
   },
   "outputs": [],
   "source": [
    "model = tf.keras.models.load_model(\n",
    "    \"saved_rhythm_model\",\n",
    "    custom_objects=None,\n",
    "    compile=False\n",
    ");\n",
    "model.compile(loss='mse',\n",
    "            optimizer=tf.train.RMSPropOptimizer(0.001),\n",
    "            metrics=['mae']);"
   ]
  },
  {
   "cell_type": "code",
   "execution_count": 3,
   "metadata": {
    "collapsed": false,
    "deletable": true,
    "editable": true
   },
   "outputs": [],
   "source": [
    "# root = \"..\\\\osureader\\\\mapdata_test\";\n",
    "fn = \"mapthis.npz\";\n",
    "\n",
    "def read_npz(fn):\n",
    "    with np.load(fn) as data:\n",
    "        wav_data = data[\"wav\"];\n",
    "        wav_data = np.swapaxes(wav_data, 2, 3);\n",
    "        ticks = data[\"ticks\"];\n",
    "        timestamps = data[\"timestamps\"];\n",
    "        extra = data[\"extra\"];\n",
    "        \n",
    "        # Extra vars\n",
    "        bpms = extra[0];\n",
    "        slider_lengths = extra[1];\n",
    "        ex1 = (60000 / bpms) / 500 - 1;\n",
    "        ex2 = bpms / 120 - 1;\n",
    "        ex3 = slider_lengths / 150 - 1;\n",
    "        \n",
    "        div_data = np.array([[int(k%4==0), int(k%4==1), int(k%4==2), int(k%4==3), ex1[k], ex2[k], ex3[k]] for k in ticks]);\n",
    "    return wav_data, div_data, ticks, timestamps;\n",
    "\n",
    "test_data, div_data, ticks, timestamps = read_npz(fn);"
   ]
  },
  {
   "cell_type": "code",
   "execution_count": 4,
   "metadata": {
    "collapsed": false,
    "deletable": true,
    "editable": true
   },
   "outputs": [
    {
     "name": "stdout",
     "output_type": "stream",
     "text": [
      "0.244485294118\n"
     ]
    }
   ],
   "source": [
    "# Make time intervals from test data\n",
    "time_interval = 16;\n",
    "if test_data.shape[0]%time_interval > 0:\n",
    "    test_data = test_data[:-(test_data.shape[0]%time_interval)];\n",
    "    div_data = div_data[:-(div_data.shape[0]%time_interval)];\n",
    "test_data2 = np.reshape(test_data, (-1, time_interval, test_data.shape[1], test_data.shape[2], test_data.shape[3]))\n",
    "div_data2 = np.reshape(div_data, (-1, time_interval, div_data.shape[1]))\n",
    "\n",
    "test_predictions = model.predict([test_data2, div_data2]);\n",
    "preds = test_predictions.reshape(-1, test_predictions.shape[2]);\n",
    "divs = div_data2.reshape(-1, div_data2.shape[2]);\n",
    "margin = np.expand_dims(- 0.0 * divs[:, 0] + 0.0 * divs[:, 1] - 0.0 * divs[:, 2] + 0.0 * divs[:, 3], 1);\n",
    "is_obj_pred = (1 + np.sign(preds[:, 0:1] + margin)) / 2;\n",
    "obj_type_pred = np.sign(preds[:, 1:4] - np.tile(np.expand_dims(np.max(preds[:, 1:4], axis=1), 1), (1, 3))) + 1;\n",
    "others_pred = (1 + np.sign(preds[:, 4:test_predictions.shape[1]] + 0.5)) / 2;\n",
    "another_pred_result = np.concatenate([is_obj_pred, is_obj_pred * obj_type_pred, others_pred], axis=1);\n",
    "\n",
    "is_obj_pred = (1 + np.sign(preds[:, 0:1] + margin + -.65)) / 2;\n",
    "print(np.sum(is_obj_pred) / preds.shape[0]);"
   ]
  },
  {
   "cell_type": "code",
   "execution_count": 6,
   "metadata": {
    "collapsed": false,
    "deletable": true,
    "editable": true
   },
   "outputs": [],
   "source": [
    "def load_momentum_minmax(fn):\n",
    "    data = np.load(fn);\n",
    "    return data;\n",
    "mommax, mommin = load_momentum_minmax(\"momentum_minmax.npy\");\n",
    "\n",
    "momentum_model = tf.keras.models.load_model(\n",
    "    \"saved_rhythm_model_momentums\",\n",
    "    custom_objects=None,\n",
    "    compile=False\n",
    ");\n",
    "momentum_model.compile(loss='mse',\n",
    "            optimizer=tf.train.RMSPropOptimizer(0.001),\n",
    "            metrics=['mae']);"
   ]
  },
  {
   "cell_type": "code",
   "execution_count": 7,
   "metadata": {
    "collapsed": false,
    "deletable": true,
    "editable": true
   },
   "outputs": [],
   "source": [
    "momentum_predictions_output = momentum_model.predict([test_data2, div_data2]);\n",
    "momentum_predictions = (momentum_predictions_output.reshape(-1, 2) + 1) / 2 / 0.8 * (mommax - mommin) + mommin;"
   ]
  },
  {
   "cell_type": "markdown",
   "metadata": {},
   "source": [
    "This section will draw a demo map with the distances. It is used for debugging! delete later!"
   ]
  },
  {
   "cell_type": "code",
   "execution_count": 8,
   "metadata": {
    "collapsed": false,
    "deletable": true,
    "editable": true,
    "scrolled": true
   },
   "outputs": [],
   "source": [
    "# note_positions = is_obj_pred[:, 0];\n",
    "# prev_timestamp = 0;\n",
    "# dist_len = 9e9;\n",
    "# max_dist_len = 150;\n",
    "# x = 256;\n",
    "# y = 192;\n",
    "# cnt = 0;\n",
    "# prev_angle = 0;\n",
    "# for i, k in enumerate(note_positions):\n",
    "#     if k == 1:\n",
    "#         time_dist = timestamps[i] - prev_timestamp;\n",
    "#         dist_len = time_dist * momentum_predictions[i][0] / 2;\n",
    "#         if dist_len > max_dist_len:\n",
    "#             x = np.random.randint(0, 512);\n",
    "#             y = np.random.randint(0, 384);\n",
    "#             prev_angle = np.random.random() * np.pi * 2;\n",
    "#         else:\n",
    "#             angle = prev_angle + time_dist * momentum_predictions[i][1] * (-0.5 + np.random.random());\n",
    "#             cnt = 0;\n",
    "#             nx = x + np.cos(angle) * dist_len;\n",
    "#             ny = y + np.sin(angle) * dist_len;\n",
    "#             while cnt < 20 and (nx < 0 or nx > 512 or ny < 0 or ny > 384):\n",
    "#                 cnt = cnt+1;\n",
    "#                 angle = prev_angle + time_dist * momentum_predictions[i][1] * cnt * (-0.5 + np.random.random());\n",
    "#                 nx = x + np.cos(angle) * dist_len;\n",
    "#                 ny = y + np.sin(angle) * dist_len;\n",
    "#             if nx < 0 or nx > 512 or ny < 0 or ny > 384:\n",
    "#                 nx = np.random.randint(0, 512);\n",
    "#                 ny = np.random.randint(0, 384);\n",
    "#             x = nx;\n",
    "#             y = ny;\n",
    "#             prev_angle = angle;\n",
    "#         print(\"{},{},{},1,0,0:0:0\".format(int(x), int(y), int(timestamps[i])))\n",
    "#         prev_timestamp = timestamps[i];"
   ]
  },
  {
   "cell_type": "code",
   "execution_count": 9,
   "metadata": {
    "collapsed": true,
    "deletable": true,
    "editable": true
   },
   "outputs": [],
   "source": [
    "# Save the rhythm data!\n",
    "\n",
    "np.savez_compressed(\"rhythm_data\", objs = is_obj_pred[:, 0], predictions = another_pred_result, timestamps = timestamps, ticks = ticks, momenta = momentum_predictions, sv = (div_data[:,6] + 1) * 150);"
   ]
  }
 ],
 "metadata": {
  "kernelspec": {
   "display_name": "Python 3",
   "language": "python",
   "name": "python3"
  },
  "language_info": {
   "codemirror_mode": {
    "name": "ipython",
    "version": 3
   },
   "file_extension": ".py",
   "mimetype": "text/x-python",
   "name": "python",
   "nbconvert_exporter": "python",
   "pygments_lexer": "ipython3",
   "version": "3.5.2"
  }
 },
 "nbformat": 4,
 "nbformat_minor": 2
}
