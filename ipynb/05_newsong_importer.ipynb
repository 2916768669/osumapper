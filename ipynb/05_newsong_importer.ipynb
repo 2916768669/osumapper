{
 "cells": [
  {
   "cell_type": "markdown",
   "metadata": {
    "deletable": true,
    "editable": true
   },
   "source": [
    "### osu!nn #5: New Map Reader\n",
    "\n",
    "Reads the data from the music. This data will be used to create a whole map!\n",
    "\n",
    "Final edit: 2018/8/16"
   ]
  },
  {
   "cell_type": "markdown",
   "metadata": {
    "deletable": true,
    "editable": true
   },
   "source": [
    "Before you read data from the music, it needs timing.\n",
    "\n",
    "Luckily there are some BPM analyzers on the web, and those are pretty accurate, so no need of Deep Learning for that!\n",
    "\n",
    "The analyzer I used (in '14) was MixMeister BPM analyzer - its problem is lack of output for offset. There should be something better than that now!\n",
    "\n",
    "And of course, it is still better to time it yourself; some music has multiple timing sections, and BPM analyzers don't seem to support that.\n",
    "\n",
    "After timing, save the empty .osu file, and fill in the file_path variable below.\n",
    "\n",
    "You should also adjust the map parameters; namely, slider velocity. The model doesn't care about the others."
   ]
  },
  {
   "cell_type": "markdown",
   "metadata": {
    "deletable": true,
    "editable": true
   },
   "source": [
    "Also, FFmpeg path needed here."
   ]
  },
  {
   "cell_type": "code",
   "execution_count": 9,
   "metadata": {
    "collapsed": false,
    "deletable": true,
    "editable": true
   },
   "outputs": [],
   "source": [
    "import os, re, time\n",
    "from osureader import *\n",
    "\n",
    "GLOBAL_VARS[\"ffmpeg_path\"] = \"D:\\\\StudyData\\\\Tensorflow\\\\ffmpeg\\\\bin\\\\ffmpeg.exe\";\n",
    "# on gcolab\n",
    "# GLOBAL_VARS[\"ffmpeg_path\"] = \"ffmpeg\";\n",
    "\n",
    "def read_new_map(file_path):\n",
    "    start = time.time()\n",
    "    read_and_save_osu_tester_file(file_path.strip(), filename=\"mapthis\");\n",
    "    end = time.time()\n",
    "    print(\"Map data saved! time = \" + str(end - start) + \" secs.\");"
   ]
  },
  {
   "cell_type": "code",
   "execution_count": 10,
   "metadata": {
    "collapsed": false,
    "deletable": true,
    "editable": true
   },
   "outputs": [
    {
     "name": "stdout",
     "output_type": "stream",
     "text": [
      "Map data saved! time = 2.1347503662109375 secs.\n"
     ]
    }
   ],
   "source": [
    "# input file here!\n",
    "file_path = \"D:\\\\osu!\\\\Songs\\\\flora\\\\Nasu Asako - flora ([CSGA]Ar3sgice) [Sample].osu\";\n",
    "\n",
    "read_new_map(file_path);"
   ]
  },
  {
   "cell_type": "markdown",
   "metadata": {
    "deletable": true,
    "editable": true
   },
   "source": [
    "That's it! We can now proceed to the next notebook."
   ]
  }
 ],
 "metadata": {
  "kernelspec": {
   "display_name": "Python 3",
   "language": "python",
   "name": "python3"
  },
  "language_info": {
   "codemirror_mode": {
    "name": "ipython",
    "version": 3
   },
   "file_extension": ".py",
   "mimetype": "text/x-python",
   "name": "python",
   "nbconvert_exporter": "python",
   "pygments_lexer": "ipython3",
   "version": "3.5.2"
  }
 },
 "nbformat": 4,
 "nbformat_minor": 2
}
