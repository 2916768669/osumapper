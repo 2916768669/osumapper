{
 "cells": [
  {
   "cell_type": "markdown",
   "metadata": {
    "deletable": true,
    "editable": true
   },
   "source": [
    "### osu!nn #4: Slider classifier\n",
    "\n",
    "The original aim of this classifier was to classify the length of sliders, and where slider ends, potentially slider shapes. However, it is currently unused.\n",
    "\n",
    "It turns out to be completely inaccurate - perhaps it's because I was testing with Sota music, or perhaps sliders are actually mapper creativity and irrelevant to music itself.\n",
    "\n",
    "Synthesis of \"sliderModel\"\n",
    "* audioData x 1\n",
    "* timingData x 1\n",
    "* sliderLabels x 1\n",
    "* (Classifier) x 2\n",
    "\n",
    "Synthesis Time: ~8 mins\n",
    "\n",
    "Last edit: 2018/8/16"
   ]
  },
  {
   "cell_type": "markdown",
   "metadata": {
    "deletable": true,
    "editable": true
   },
   "source": [
    "Import the wheels. By the way pandas is not used, re is also not. For future expansion of course!"
   ]
  },
  {
   "cell_type": "code",
   "execution_count": 1,
   "metadata": {
    "collapsed": false,
    "deletable": true,
    "editable": true
   },
   "outputs": [],
   "source": [
    "import tensorflow as tf\n",
    "from tensorflow import keras\n",
    "import pandas as pd\n",
    "import numpy as np\n",
    "import matplotlib.pyplot as plt\n",
    "import os, re"
   ]
  },
  {
   "cell_type": "code",
   "execution_count": 2,
   "metadata": {
    "collapsed": true,
    "deletable": true,
    "editable": true
   },
   "outputs": [],
   "source": [
    "root = \".\\\\mapdata\";\n",
    "\n",
    "divisor = 4;\n",
    "\n",
    "max_x = 512;\n",
    "max_y = 384;"
   ]
  },
  {
   "cell_type": "code",
   "execution_count": 3,
   "metadata": {
    "collapsed": false,
    "deletable": true,
    "editable": true
   },
   "outputs": [],
   "source": [
    "# lst file, [TICK, TIME, NOTE, IS_CIRCLE, IS_SLIDER, IS_SPINNER, IS_SLIDER_END, IS_SPINNER_END, \n",
    "#               0,    1,    2,         3,         4,          5,             6,              7,\n",
    "#            SLIDING, SPINNING, MOMENTUM, ANGULAR_MOMENTUM, EX1, EX2, EX3], length MAPTICKS\n",
    "#                  8,        9,       10,               11,  12,  13,  14,\n",
    "# wav file, [len(snapsize), MAPTICKS, 2, fft_size//4]\n",
    "def read_npz(fn):\n",
    "    with np.load(fn) as data:\n",
    "        wav_data = data[\"wav\"];\n",
    "        wav_data = np.swapaxes(wav_data, 2, 3);\n",
    "        train_data = wav_data;\n",
    "        div_source = data[\"lst\"][:, 0];\n",
    "        div_source2 = data[\"lst\"][:, 12:15];\n",
    "        div_data = np.concatenate([np.array([[int(k%4==0), int(k%4==1), int(k%4==2), int(k%4==3)] for k in div_source]), div_source2], axis=1);\n",
    "        lst_data = data[\"lst\"][:, [0, 2, 3, 4, 5, 6, 8]];\n",
    "        # this time there is no 2*k-1!\n",
    "        train_labels = lst_data;\n",
    "    return train_data, div_data, train_labels;\n",
    "\n",
    "def read_all_npzs():\n",
    "    td_list = [];\n",
    "    dd_list = [];\n",
    "    tl_list = [];\n",
    "    for file in os.listdir(root):\n",
    "        if file.endswith(\".npz\"):\n",
    "            _td, _dd, _tl = read_npz(os.path.join(root, file));\n",
    "            td_list.append(_td);\n",
    "            dd_list.append(_dd);\n",
    "            tl_list.append(_tl);\n",
    "    train_data = np.concatenate(td_list);\n",
    "    div_data = np.concatenate(dd_list);\n",
    "    train_labels = np.concatenate(tl_list);\n",
    "    \n",
    "    # should be (X, 7, 32, 2) and (X, 6) in default sampling settings\n",
    "    # (X, fft_window_type, freq_point, magnitude/phase)\n",
    "    # X = 76255\n",
    "    # print(train_data.shape, train_labels.shape);\n",
    "    return train_data, div_data, train_labels;\n",
    "                \n",
    "(train_data_unfiltered, div_data_unfiltered, train_labels_unfiltered) = read_all_npzs();"
   ]
  },
  {
   "cell_type": "code",
   "execution_count": 4,
   "metadata": {
    "collapsed": false,
    "deletable": true,
    "editable": true
   },
   "outputs": [],
   "source": [
    "# print(np.sum(slider_length_labels[:, 0]))\n",
    "# print(np.sum(slider_length_labels[:, 1]))\n",
    "# print(np.sum(slider_length_labels[:, 2]))\n",
    "# print(np.sum(slider_length_labels[:, 3]))\n",
    "# print(np.sum(slider_length_labels[:, 4]))"
   ]
  },
  {
   "cell_type": "code",
   "execution_count": 19,
   "metadata": {
    "collapsed": false,
    "deletable": true,
    "editable": true
   },
   "outputs": [
    {
     "name": "stdout",
     "output_type": "stream",
     "text": [
      "(12367, 4, 7, 32, 2)\n"
     ]
    }
   ],
   "source": [
    "\n",
    "\n",
    "# Before: TICK, NOTE, IS_CIRCLE, IS_SLIDER, IS_SPINNER, IS_SLIDER_END, SLIDING\n",
    "#            0,    1,         2,         3,          4,             5,       6\n",
    "\n",
    "temp_train_data = [];\n",
    "temp_div_data = [];\n",
    "temp_train_labels = [];\n",
    "\n",
    "filter_index_list = [];\n",
    "slider_index_list = [];\n",
    "slider_length_list = [];\n",
    "append_flag = False;\n",
    "current_slider_tick = 0;\n",
    "is_sliding = False;\n",
    "\n",
    "for i,k in enumerate(train_labels_unfiltered):\n",
    "    if k[0] < current_slider_tick:\n",
    "        current_slider_tick = 0;\n",
    "    if k[3] == 1: # Found slider\n",
    "        filter_index_list.append(i);\n",
    "        slider_index_list.append(i);\n",
    "        append_flag = True;\n",
    "        if is_sliding:\n",
    "            slider_length_list.append(k[0] - current_slider_tick - 1);\n",
    "        is_sliding = True;\n",
    "        current_slider_tick = k[0];\n",
    "    elif k[2] == 1 or k[4] == 1: # Found note or spinner\n",
    "        filter_index_list.append(i);\n",
    "        append_flag = False;\n",
    "        if is_sliding:\n",
    "            is_sliding = False;\n",
    "            slider_length_list.append(k[0] - current_slider_tick - 1);\n",
    "    elif k[1] == 0 and k[0] - current_slider_tick > 8: # Too long after the last slider\n",
    "        append_flag = False;\n",
    "        if is_sliding:\n",
    "            is_sliding = False;\n",
    "            slider_length_list.append(k[0] - current_slider_tick - 1);\n",
    "    elif k[1] == 0: # No note\n",
    "        if append_flag:\n",
    "            filter_index_list.append(i);\n",
    "        if is_sliding:\n",
    "            if k[6] == 1: # Is truly sliding\n",
    "                pass\n",
    "            else: # slider end\n",
    "                is_sliding = False;\n",
    "                slider_length_list.append(k[0] - current_slider_tick);\n",
    "    elif k[1] == 1 and k[5] == 1: # Slider end\n",
    "        if append_flag:\n",
    "            filter_index_list.append(i);\n",
    "        if is_sliding:\n",
    "            is_sliding = False;\n",
    "            slider_length_list.append(k[0] - current_slider_tick);\n",
    "if is_sliding:\n",
    "    slider_length_list.append(train_labels_unfiltered[-1][0] - current_slider_tick);\n",
    "\n",
    "slider_length_labels = np.array([[int(k<=1), int(k==2), int(k==3), int(k>=4)] for k in slider_length_list]);\n",
    "\n",
    "\n",
    "# TrainData: SLD, SLD+1, SLD+2, SLD+3\n",
    "#              0,     1,     2,     3\n",
    "# Label: IS_LEN1, IS_LEN2, IS_LEN3, IS_LEN4+\n",
    "#              0,       1,       2,       3\n",
    "slider_index_list = np.array([k for k in slider_index_list if k < train_data_unfiltered.shape[0] - 3]);\n",
    "train_data_slider_p0 = train_data_unfiltered[slider_index_list];\n",
    "train_data_slider_p1 = train_data_unfiltered[slider_index_list+1];\n",
    "train_data_slider_p2 = train_data_unfiltered[slider_index_list+2];\n",
    "train_data_slider_p3 = train_data_unfiltered[slider_index_list+3];\n",
    "train_data_slider = np.stack([train_data_slider_p0, train_data_slider_p1, train_data_slider_p2, train_data_slider_p3], axis=1);\n",
    "print(train_data_slider.shape);\n",
    "div_data_slider = div_data_unfiltered[slider_index_list];\n",
    "train_labels_slider = slider_length_labels;\n",
    "\n",
    "# tanh convert!!\n",
    "train_labels_slider = train_labels_slider * 2 - 1;\n",
    "\n",
    "# Label: IS_SLIDER, IS_SLIDER_END, SLIDING, SLIDING_INCL_END\n",
    "#                0,             1,       2,                3\n",
    "train_data = train_data_unfiltered[filter_index_list];\n",
    "div_data = div_data_unfiltered[filter_index_list];\n",
    "train_labels_pt1 = train_labels_unfiltered[filter_index_list][:, [3, 5, 6]];\n",
    "train_labels_pt2 = np.expand_dims(np.max(train_labels_pt1[:, [1, 2]], axis=1), axis=1);\n",
    "train_labels = np.concatenate([train_labels_pt1, train_labels_pt2], axis=1);\n",
    "\n",
    "# tanh convert!!\n",
    "train_labels = train_labels * 2 - 1;\n",
    "\n",
    "# non_object_end_indices = [i for i,k in enumerate(train_labels_unfiltered) if k[4] == 0 and k[5] == 0];\n",
    "# train_data = train_data_unfiltered[non_object_end_indices];\n",
    "# div_data = div_data_unfiltered[non_object_end_indices];\n",
    "# train_labels = train_labels_unfiltered[non_object_end_indices][:, [0, 1, 2, 3, 6, 7]];\n",
    "\n",
    "# Delete unfiltered arrays\n",
    "# del train_data_unfiltered, div_data_unfiltered, train_labels_unfiltered;\n",
    "\n",
    "# Normalize training data\n",
    "\n",
    "# mean = train_data.mean(axis=0)\n",
    "# std = train_data.std(axis=0)\n",
    "# train_data = (train_data - np.tile(mean, (train_data.shape[0], 1,1,1))) / np.tile(std, (train_data.shape[0], 1,1,1))"
   ]
  },
  {
   "cell_type": "code",
   "execution_count": 6,
   "metadata": {
    "collapsed": false,
    "deletable": true,
    "editable": true
   },
   "outputs": [],
   "source": [
    "# Make time intervals from training data\n",
    "time_interval = 16;\n",
    "if train_data.shape[0]%time_interval > 0:\n",
    "    train_data = train_data[:-(train_data.shape[0]%time_interval)];\n",
    "    div_data = div_data[:-(div_data.shape[0]%time_interval)];\n",
    "    train_labels = train_labels[:-(train_labels.shape[0]%time_interval)];\n",
    "#     train_data_slider = train_data_slider[:-(train_data_slider.shape[0]%time_interval)];\n",
    "#     div_data_slider = div_data_slider[:-(div_data_slider.shape[0]%time_interval)];\n",
    "#     train_labels_slider = train_labels_slider[:-(train_labels_slider.shape[0]%time_interval)];\n",
    "train_data2 = np.reshape(train_data, (-1, time_interval, train_data.shape[1], train_data.shape[2], train_data.shape[3]))\n",
    "div_data2 = np.reshape(div_data, (-1, time_interval, div_data.shape[1]))\n",
    "train_labels2 = np.reshape(train_labels, (-1, time_interval, train_labels.shape[1]))\n",
    "# train_data_slider2 = np.reshape(train_data_slider, (-1, time_interval, train_data_slider.shape[1], train_data_slider.shape[2], train_data_slider.shape[3]))\n",
    "# div_data_slider2 = np.reshape(div_data_slider, (-1, time_interval, div_data_slider.shape[1]))\n",
    "# train_labels_slider2 = np.reshape(train_labels_slider, (-1, time_interval, train_labels_slider.shape[1]))\n",
    "\n",
    "#todo: split mag/phase\n",
    "#rain_data2 = train_data2[:, :, :, :, 0:1]"
   ]
  },
  {
   "cell_type": "markdown",
   "metadata": {
    "deletable": true,
    "editable": true
   },
   "source": [
    "Now build the model."
   ]
  },
  {
   "cell_type": "code",
   "execution_count": 7,
   "metadata": {
    "collapsed": false,
    "deletable": true,
    "editable": true
   },
   "outputs": [
    {
     "name": "stdout",
     "output_type": "stream",
     "text": [
      "__________________________________________________________________________________________________\n",
      "Layer (type)                    Output Shape         Param #     Connected to                     \n",
      "==================================================================================================\n",
      "time_distributed_input (InputLa (None, 16, 7, 32, 2) 0                                            \n",
      "__________________________________________________________________________________________________\n",
      "time_distributed (TimeDistribut (None, 16, 6, 31, 16 144         time_distributed_input[0][0]     \n",
      "__________________________________________________________________________________________________\n",
      "time_distributed_1 (TimeDistrib (None, 16, 6, 15, 16 0           time_distributed[0][0]           \n",
      "__________________________________________________________________________________________________\n",
      "time_distributed_2 (TimeDistrib (None, 16, 6, 15, 16 0           time_distributed_1[0][0]         \n",
      "__________________________________________________________________________________________________\n",
      "time_distributed_3 (TimeDistrib (None, 16, 6, 15, 16 0           time_distributed_2[0][0]         \n",
      "__________________________________________________________________________________________________\n",
      "time_distributed_4 (TimeDistrib (None, 16, 5, 13, 16 1552        time_distributed_3[0][0]         \n",
      "__________________________________________________________________________________________________\n",
      "time_distributed_5 (TimeDistrib (None, 16, 5, 6, 16) 0           time_distributed_4[0][0]         \n",
      "__________________________________________________________________________________________________\n",
      "time_distributed_6 (TimeDistrib (None, 16, 5, 6, 16) 0           time_distributed_5[0][0]         \n",
      "__________________________________________________________________________________________________\n",
      "time_distributed_7 (TimeDistrib (None, 16, 5, 6, 16) 0           time_distributed_6[0][0]         \n",
      "__________________________________________________________________________________________________\n",
      "time_distributed_8 (TimeDistrib (None, 16, 480)      0           time_distributed_7[0][0]         \n",
      "__________________________________________________________________________________________________\n",
      "lstm (LSTM)                     (None, 16, 64)       139520      time_distributed_8[0][0]         \n",
      "__________________________________________________________________________________________________\n",
      "input_1 (InputLayer)            (None, 16, 7)        0                                            \n",
      "__________________________________________________________________________________________________\n",
      "concatenate (Concatenate)       (None, 16, 71)       0           lstm[0][0]                       \n",
      "                                                                 input_1[0][0]                    \n",
      "__________________________________________________________________________________________________\n",
      "dense (Dense)                   (None, 16, 71)       5112        concatenate[0][0]                \n",
      "__________________________________________________________________________________________________\n",
      "dense_1 (Dense)                 (None, 16, 71)       5112        dense[0][0]                      \n",
      "__________________________________________________________________________________________________\n",
      "dense_2 (Dense)                 (None, 16, 4)        288         dense_1[0][0]                    \n",
      "==================================================================================================\n",
      "Total params: 151,728\n",
      "Trainable params: 151,728\n",
      "Non-trainable params: 0\n",
      "__________________________________________________________________________________________________\n"
     ]
    }
   ],
   "source": [
    "from tensorflow.keras.models import Model;\n",
    "\n",
    "def build_model():\n",
    "    model1 = keras.Sequential([\n",
    "        keras.layers.TimeDistributed(keras.layers.Conv2D(16, (2, 2),\n",
    "                           data_format='channels_last'),\n",
    "                           input_shape=(time_interval, train_data2.shape[2], train_data2.shape[3], train_data2.shape[4])),\n",
    "        keras.layers.TimeDistributed(keras.layers.MaxPool2D((1, 2),\n",
    "                           data_format='channels_last')),\n",
    "        keras.layers.TimeDistributed(keras.layers.Activation(activation=tf.nn.relu)),\n",
    "        keras.layers.TimeDistributed(keras.layers.Dropout(0.3)),\n",
    "        keras.layers.TimeDistributed(keras.layers.Conv2D(16, (2, 3),\n",
    "                           data_format='channels_last')),\n",
    "        keras.layers.TimeDistributed(keras.layers.MaxPool2D((1, 2),\n",
    "                           data_format='channels_last')),\n",
    "        keras.layers.TimeDistributed(keras.layers.Activation(activation=tf.nn.relu)),\n",
    "        keras.layers.TimeDistributed(keras.layers.Dropout(0.3)),\n",
    "        keras.layers.TimeDistributed(keras.layers.Flatten()),\n",
    "        keras.layers.LSTM(64, activation=tf.nn.tanh, return_sequences=True)\n",
    "    ])\n",
    "    \n",
    "    input2 = keras.layers.InputLayer(input_shape=(time_interval, div_data.shape[1]));\n",
    "    \n",
    "    conc = keras.layers.concatenate([model1.output, input2.output]);\n",
    "    dense1 = keras.layers.Dense(71, activation=tf.nn.tanh)(conc);\n",
    "    dense2 = keras.layers.Dense(71, activation=tf.nn.relu)(dense1);\n",
    "    dense3 = keras.layers.Dense(train_labels2.shape[2], activation=tf.nn.tanh)(dense2);\n",
    "    \n",
    "\n",
    "    optimizer = tf.train.RMSPropOptimizer(0.001);\n",
    "\n",
    "    \n",
    "    final_model = Model(inputs=[model1.input, input2.input], outputs=dense3);\n",
    "    final_model.compile(loss='mse',\n",
    "                optimizer=optimizer,\n",
    "                metrics=['mae'])\n",
    "    return final_model\n",
    "\n",
    "model = build_model()\n",
    "model.summary()\n",
    "\n",
    "def plot_history(history):\n",
    "    plt.figure()\n",
    "    plt.xlabel('Epoch')\n",
    "    plt.ylabel('Mean Abs Error [Limitless]')\n",
    "    plt.plot(history.epoch, np.array(history.history['mean_absolute_error']), \n",
    "           label='Train MAE')\n",
    "    plt.plot(history.epoch, np.array(history.history['val_mean_absolute_error']),\n",
    "           label = 'Val MAE')\n",
    "    plt.plot(history.epoch, np.array(history.history['loss']), \n",
    "           label='Train Loss')\n",
    "    plt.plot(history.epoch, np.array(history.history['val_loss']),\n",
    "           label = 'Val Loss')\n",
    "    plt.legend()\n",
    "    plt.show()\n",
    "\n",
    "# Display training progress by printing a single dot for each completed epoch.\n",
    "class PrintDot(keras.callbacks.Callback):\n",
    "    def on_epoch_end(self,epoch,logs):\n",
    "        if epoch % 100 == 0: print('')\n",
    "        print('.', end='')\n",
    "\n",
    "early_stop = keras.callbacks.EarlyStopping(monitor='mean_absolute_error', patience=20)\n",
    "\n"
   ]
  },
  {
   "cell_type": "markdown",
   "metadata": {
    "deletable": true,
    "editable": true
   },
   "source": [
    "ぐるぐる。"
   ]
  },
  {
   "cell_type": "code",
   "execution_count": 8,
   "metadata": {
    "collapsed": false,
    "deletable": true,
    "editable": true
   },
   "outputs": [
    {
     "name": "stdout",
     "output_type": "stream",
     "text": [
      "\n",
      "................"
     ]
    },
    {
     "data": {
      "image/png": "[encoded data removed]",
      "text/plain": [
       "<matplotlib.figure.Figure at 0x2051466c390>"
      ]
     },
     "metadata": {},
     "output_type": "display_data"
    },
    {
     "name": "stdout",
     "output_type": "stream",
     "text": [
      "\n",
      "Testing set Mean Abs Error: 0.7066302514383209\n"
     ]
    }
   ],
   "source": [
    "# Don't worry, it will successfully overfit after those 16 epochs.\n",
    "EPOCHS = 16\n",
    "\n",
    "test_split_count = 233\n",
    "\n",
    "# Split some test data out\n",
    "new_train_data = train_data2[:-test_split_count];\n",
    "new_div_data = div_data2[:-test_split_count];\n",
    "new_train_labels = train_labels2[:-test_split_count];\n",
    "test_data = train_data2[-test_split_count:];\n",
    "test_div_data = div_data2[-test_split_count:];\n",
    "test_labels = train_labels2[-test_split_count:];\n",
    "\n",
    "# Store training stats\n",
    "history = model.fit([new_train_data, new_div_data], new_train_labels, epochs=EPOCHS,\n",
    "                    validation_split=0.2, verbose=0, #batch_size=1,\n",
    "                    callbacks=[early_stop, PrintDot()])\n",
    "\n",
    "plot_history(history)\n",
    "\n",
    "[loss, mae] = model.evaluate([test_data, test_div_data], test_labels, verbose=0)\n",
    "\n",
    "print(\"\\nTesting set Mean Abs Error: {}\".format(mae))\n",
    "\n",
    "test_predictions = model.predict([test_data, test_div_data]).reshape((-1, time_interval, train_labels.shape[1]))\n",
    "\n",
    "# print(test_predictions)\n",
    "# print(test_labels)\n",
    "# print(test_predictions - list(test_labels))\n",
    "# print(\"Mean Abs Error: \"+str(np.mean(np.abs(test_predictions - test_labels))))"
   ]
  },
  {
   "cell_type": "markdown",
   "metadata": {
    "deletable": true,
    "editable": true
   },
   "source": [
    "The result of this model looks pretty bad; it seems no better than random guessing.\n",
    "\n",
    "Hmm."
   ]
  },
  {
   "cell_type": "code",
   "execution_count": 9,
   "metadata": {
    "collapsed": false,
    "deletable": true,
    "editable": true
   },
   "outputs": [
    {
     "name": "stdout",
     "output_type": "stream",
     "text": [
      "another_slider_end_prediction f1_score: 0.11859443631039532\n",
      "0.628901347168\n",
      "0.437696335079\n",
      "is_slider_start f1_score: 0.5305889079473985 from 0.29831775700934576\n",
      "is_slider_end f1_score: 0.23890784982935157 from 0.2934823091247672\n",
      "is_sliding f1_score: 0.572337962962963 from 0.48916064480266813\n",
      "is_sliding_incl_end f1_score: 0.7768209544312882 from 0.5679963735267453\n"
     ]
    }
   ],
   "source": [
    "from sklearn.metrics import f1_score\n",
    "\n",
    "flat_test_preds = test_predictions.reshape(-1, train_labels2.shape[2]);\n",
    "flat_test_labels = test_labels.reshape(-1, train_labels2.shape[2]);\n",
    "\n",
    "pred_result = (np.sign(flat_test_preds) + 1) / 2\n",
    "actual_result = (flat_test_labels + 1) / 2\n",
    "\n",
    "prev_pred = np.concatenate([pred_result[-1:, 3], pred_result[:-1, 3]], axis=0);\n",
    "this_pred = pred_result[:, 3];\n",
    "another_slider_end_pred = np.max([this_pred * 0, this_pred - prev_pred], axis=0);\n",
    "print(\"another_slider_end_prediction f1_score: {}\".format(f1_score(another_slider_end_pred, actual_result[:, 1])))\n",
    "\n",
    "random_result = (1 + np.sign(-1 + 2 * np.random.random(size=pred_result.shape))) / 2;\n",
    "print(f1_score(actual_result.flatten(), pred_result.flatten()));\n",
    "print(f1_score(actual_result.flatten(), random_result.flatten()));\n",
    "\n",
    "# Individual column predictions\n",
    "column_names = [\"is_slider_start\", \"is_slider_end\", \"is_sliding\", \"is_sliding_incl_end\"];\n",
    "for i, k in enumerate(column_names):\n",
    "    print(\"{} f1_score: {} from {}\".format(k, f1_score(pred_result[:, i], actual_result[:, i]), f1_score(random_result[:, i], actual_result[:, i])))"
   ]
  },
  {
   "cell_type": "markdown",
   "metadata": {
    "deletable": true,
    "editable": true
   },
   "source": [
    "This is another model which takes 4 ticks of data starting from the slider tick, in order to figure out the length of the slider.\n",
    "\n",
    "It's kind of... super overfitted..."
   ]
  },
  {
   "cell_type": "code",
   "execution_count": 30,
   "metadata": {
    "collapsed": false,
    "deletable": true,
    "editable": true
   },
   "outputs": [
    {
     "name": "stdout",
     "output_type": "stream",
     "text": [
      "__________________________________________________________________________________________________\n",
      "Layer (type)                    Output Shape         Param #     Connected to                     \n",
      "==================================================================================================\n",
      "time_distributed_90_input (Inpu (None, 4, 7, 32, 2)  0                                            \n",
      "__________________________________________________________________________________________________\n",
      "time_distributed_90 (TimeDistri (None, 4, 6, 31, 16) 144         time_distributed_90_input[0][0]  \n",
      "__________________________________________________________________________________________________\n",
      "time_distributed_91 (TimeDistri (None, 4, 6, 15, 16) 0           time_distributed_90[0][0]        \n",
      "__________________________________________________________________________________________________\n",
      "time_distributed_92 (TimeDistri (None, 4, 6, 15, 16) 0           time_distributed_91[0][0]        \n",
      "__________________________________________________________________________________________________\n",
      "time_distributed_93 (TimeDistri (None, 4, 6, 15, 16) 0           time_distributed_92[0][0]        \n",
      "__________________________________________________________________________________________________\n",
      "time_distributed_94 (TimeDistri (None, 4, 5, 13, 16) 1552        time_distributed_93[0][0]        \n",
      "__________________________________________________________________________________________________\n",
      "time_distributed_95 (TimeDistri (None, 4, 5, 6, 16)  0           time_distributed_94[0][0]        \n",
      "__________________________________________________________________________________________________\n",
      "time_distributed_96 (TimeDistri (None, 4, 5, 6, 16)  0           time_distributed_95[0][0]        \n",
      "__________________________________________________________________________________________________\n",
      "time_distributed_97 (TimeDistri (None, 4, 5, 6, 16)  0           time_distributed_96[0][0]        \n",
      "__________________________________________________________________________________________________\n",
      "time_distributed_98 (TimeDistri (None, 4, 480)       0           time_distributed_97[0][0]        \n",
      "__________________________________________________________________________________________________\n",
      "flatten_18 (Flatten)            (None, 1920)         0           time_distributed_98[0][0]        \n",
      "__________________________________________________________________________________________________\n",
      "input_11 (InputLayer)           (None, 7)            0                                            \n",
      "__________________________________________________________________________________________________\n",
      "concatenate_10 (Concatenate)    (None, 1927)         0           flatten_18[0][0]                 \n",
      "                                                                 input_11[0][0]                   \n",
      "__________________________________________________________________________________________________\n",
      "dense_26 (Dense)                (None, 71)           136888      concatenate_10[0][0]             \n",
      "__________________________________________________________________________________________________\n",
      "dense_27 (Dense)                (None, 71)           5112        dense_26[0][0]                   \n",
      "__________________________________________________________________________________________________\n",
      "dense_28 (Dense)                (None, 4)            288         dense_27[0][0]                   \n",
      "==================================================================================================\n",
      "Total params: 143,984\n",
      "Trainable params: 143,984\n",
      "Non-trainable params: 0\n",
      "__________________________________________________________________________________________________\n",
      "\n",
      "................................................"
     ]
    },
    {
     "data": {
      "image/png": "[encoded data removed]",
      "text/plain": [
       "<matplotlib.figure.Figure at 0x20545d8e6d8>"
      ]
     },
     "metadata": {},
     "output_type": "display_data"
    },
    {
     "name": "stdout",
     "output_type": "stream",
     "text": [
      "\n",
      "Testing set Mean Abs Error: 0.638661359001127\n"
     ]
    }
   ],
   "source": [
    "# Build another model.\n",
    "\n",
    "def build_slider_model():\n",
    "    model1 = keras.Sequential([\n",
    "        keras.layers.TimeDistributed(keras.layers.Conv2D(16, (2, 2),\n",
    "                           data_format='channels_last'),\n",
    "                           input_shape=(train_data_slider.shape[1], train_data_slider.shape[2], train_data_slider.shape[3], train_data_slider.shape[4])),\n",
    "        keras.layers.TimeDistributed(keras.layers.MaxPool2D((1, 2),\n",
    "                           data_format='channels_last')),\n",
    "        keras.layers.TimeDistributed(keras.layers.Activation(activation=tf.nn.relu)),\n",
    "        keras.layers.TimeDistributed(keras.layers.Dropout(0.3)),\n",
    "        keras.layers.TimeDistributed(keras.layers.Conv2D(16, (2, 3),\n",
    "                           data_format='channels_last')),\n",
    "        keras.layers.TimeDistributed(keras.layers.MaxPool2D((1, 2),\n",
    "                           data_format='channels_last')),\n",
    "        keras.layers.TimeDistributed(keras.layers.Activation(activation=tf.nn.relu)),\n",
    "        keras.layers.TimeDistributed(keras.layers.Dropout(0.3)),\n",
    "        keras.layers.TimeDistributed(keras.layers.Flatten()),\n",
    "#         keras.layers.LSTM(64, activation=tf.nn.tanh, return_sequences=False)\n",
    "        keras.layers.Flatten()\n",
    "    ])\n",
    "    \n",
    "    input2 = keras.layers.InputLayer(input_shape=(div_data.shape[1],));\n",
    "    \n",
    "    conc = keras.layers.concatenate([model1.output, input2.output]);\n",
    "    dense1 = keras.layers.Dense(71, activation=tf.nn.tanh)(conc);\n",
    "    dense2 = keras.layers.Dense(71, activation=tf.nn.relu)(dense1);\n",
    "    dense3 = keras.layers.Dense(train_labels_slider.shape[1], activation=tf.nn.tanh)(dense2);\n",
    "    \n",
    "\n",
    "    optimizer = tf.train.RMSPropOptimizer(0.001);\n",
    "\n",
    "    \n",
    "    final_model = Model(inputs=[model1.input, input2.input], outputs=dense3);\n",
    "    final_model.compile(loss='mse',\n",
    "                optimizer=optimizer,\n",
    "                metrics=['mae'])\n",
    "    return final_model\n",
    "\n",
    "model_slider = build_slider_model()\n",
    "model_slider.summary()\n",
    "\n",
    "# and train it\n",
    "\n",
    "EPOCHS_slider = 16\n",
    "\n",
    "test_split_count_slider = 233\n",
    "\n",
    "# Split some test data out\n",
    "new_train_data_slider = train_data_slider[:-test_split_count_slider];\n",
    "new_div_data_slider = div_data_slider[:-test_split_count_slider];\n",
    "new_train_labels_slider = train_labels_slider[:-test_split_count_slider];\n",
    "test_data_slider = train_data_slider[-test_split_count_slider:];\n",
    "test_div_data_slider = div_data_slider[-test_split_count_slider:];\n",
    "test_labels_slider = train_labels_slider[-test_split_count_slider:];\n",
    "\n",
    "# Store training stats\n",
    "history_slider = model_slider.fit([new_train_data_slider, new_div_data_slider], new_train_labels_slider, epochs=EPOCHS_slider,\n",
    "                    validation_split=0.2, verbose=0, #batch_size=1,\n",
    "                    callbacks=[early_stop, PrintDot()])\n",
    "\n",
    "plot_history(history_slider)\n",
    "\n",
    "[loss_slider, mae_slider] = model_slider.evaluate([test_data_slider, test_div_data_slider], test_labels_slider, verbose=0)\n",
    "\n",
    "print(\"\\nTesting set Mean Abs Error: {}\".format(mae_slider))\n",
    "\n",
    "test_predictions_slider = model_slider.predict([test_data_slider, test_div_data_slider]).reshape((-1, train_labels_slider.shape[1]))"
   ]
  },
  {
   "cell_type": "code",
   "execution_count": 31,
   "metadata": {
    "collapsed": false,
    "deletable": true,
    "editable": true
   },
   "outputs": [
    {
     "name": "stdout",
     "output_type": "stream",
     "text": [
      "0.394849785408\n",
      "0.340057636888\n",
      "is_slider1 f1_score: 0.34146341463414637 from 0.22077922077922077\n",
      "is_slider2 f1_score: 0.5555555555555555 from 0.4455445544554455\n",
      "is_slider3 f1_score: 0.12121212121212123 from 0.3184713375796179\n",
      "is_slider4 f1_score: 0.12121212121212119 from 0.3425414364640884\n"
     ]
    }
   ],
   "source": [
    "flat_test_preds_slider = test_predictions_slider.reshape(-1, train_labels_slider2.shape[2]);\n",
    "flat_test_labels_slider = test_labels_slider.reshape(-1, train_labels_slider2.shape[2]);\n",
    "\n",
    "normalized_pred_results_slider = (flat_test_preds_slider - np.mean(flat_test_preds_slider, axis=0)) / np.std(flat_test_preds_slider, axis=0);\n",
    "\n",
    "pred_argmax_slider = np.argmax(flat_test_preds_slider, axis=1);\n",
    "pred_result_slider = np.array([[int(k==0), int(k==1), int(k==2), int(k==3)] for k in pred_argmax_slider]);\n",
    "actual_result_slider = (flat_test_labels_slider + 1) / 2\n",
    "\n",
    "random_result_slider = (1 + np.sign(-1 + 2 * np.random.random(size=pred_result_slider.shape))) / 2;\n",
    "print(f1_score(actual_result_slider.flatten(), pred_result_slider.flatten()));\n",
    "print(f1_score(actual_result_slider.flatten(), random_result_slider.flatten()));\n",
    "\n",
    "# Individual column predictions\n",
    "column_names = [\"is_slider1\", \"is_slider2\", \"is_slider3\", \"is_slider4\"];\n",
    "for i, k in enumerate(column_names):\n",
    "    print(\"{} f1_score: {} from {}\".format(k, f1_score(pred_result_slider[:, i], actual_result_slider[:, i]), f1_score(random_result_slider[:, i], actual_result_slider[:, i])))"
   ]
  },
  {
   "cell_type": "markdown",
   "metadata": {
    "deletable": true,
    "editable": true
   },
   "source": [
    "We still save the models since we took so much effort to build them. Even if we do not use them at all!"
   ]
  },
  {
   "cell_type": "code",
   "execution_count": 33,
   "metadata": {
    "collapsed": false,
    "deletable": true,
    "editable": true
   },
   "outputs": [
    {
     "name": "stdout",
     "output_type": "stream",
     "text": [
      "WARNING:tensorflow:TensorFlow optimizers do not make it possible to access optimizer attributes or optimizer state after instantiation. As a result, we cannot save the optimizer as part of the model save file.You will have to compile your model again after loading it. Prefer using a Keras optimizer instead (see keras.io/optimizers).\n"
     ]
    }
   ],
   "source": [
    "tf.keras.models.save_model(\n",
    "    model,\n",
    "    \"saved_slider_model1\",\n",
    "    overwrite=True,\n",
    "    include_optimizer=True\n",
    ");\n",
    "tf.keras.models.save_model(\n",
    "    model_slider,\n",
    "    \"saved_slider_model2\",\n",
    "    overwrite=True,\n",
    "    include_optimizer=True\n",
    ");\n",
    "\n",
    "# WARNING:tensorflow:TensorFlow optimizers do not make it possible to access optimizer attributes or optimizer\n",
    "# state after instantiation. As a result, we cannot save the optimizer as part of the model save file.You will\n",
    "# have to compile your model again after loading it. Prefer using a Keras optimizer instead (see keras.io/optimizers).\n"
   ]
  }
 ],
 "metadata": {
  "kernelspec": {
   "display_name": "Python 3",
   "language": "python",
   "name": "python3"
  },
  "language_info": {
   "codemirror_mode": {
    "name": "ipython",
    "version": 3
   },
   "file_extension": ".py",
   "mimetype": "text/x-python",
   "name": "python",
   "nbconvert_exporter": "python",
   "pygments_lexer": "ipython3",
   "version": "3.5.2"
  }
 },
 "nbformat": 4,
 "nbformat_minor": 2
}
